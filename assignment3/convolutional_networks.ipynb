{
  "cells": [
    {
      "cell_type": "markdown",
      "metadata": {
        "id": "view-in-github",
        "colab_type": "text"
      },
      "source": [
        "<a href=\"https://colab.research.google.com/github/artkpv/dl_4_cv_umich/blob/main/assignment3/convolutional_networks.ipynb\" target=\"_parent\"><img src=\"https://colab.research.google.com/assets/colab-badge.svg\" alt=\"Open In Colab\"/></a>"
      ]
    },
    {
      "cell_type": "markdown",
      "metadata": {
        "id": "DDJwQPZcupab"
      },
      "source": [
        "# EECS 498-007/598-005 Assignment 3-2: Convolutional Neural Networks and Batch Normalization\n",
        "\n",
        "Before we start, please put your name and UMID in following format\n",
        "\n",
        ": Firstname LASTNAME, #00000000   //   e.g.) Justin JOHNSON, #12345678"
      ]
    },
    {
      "cell_type": "markdown",
      "metadata": {
        "id": "2KMxqLt1h2kx"
      },
      "source": [
        "**Your Answer:**   \n",
        "Artem Karpov, www.artkpv.net"
      ]
    },
    {
      "cell_type": "markdown",
      "metadata": {
        "id": "aQW_w1Wzw72f",
        "tags": [
          "pdf-title"
        ]
      },
      "source": [
        "# Convolutional networks\n",
        "So far we have worked with deep fully-connected networks, using them to explore different optimization strategies and network architectures. Fully-connected networks are a good testbed for experimentation because they are very computationally efficient, but in practice all state-of-the-art results use convolutional networks instead.\n",
        "\n",
        "First you will implement several layer types that are used in convolutional networks. You will then use these layers to train a convolutional network on the CIFAR-10 dataset."
      ]
    },
    {
      "cell_type": "markdown",
      "metadata": {
        "id": "ubB_0e-UAOVK"
      },
      "source": [
        "## Install starter code\n",
        "We will continue using the utility functions that we've used for Assignment 1 and 2: [`coutils` package](https://github.com/deepvision-class/starter-code). Run this cell to download and install it.\n"
      ]
    },
    {
      "cell_type": "code",
      "execution_count": 3,
      "metadata": {
        "id": "ASkY27ZtA7Is",
        "outputId": "8c572a02-9ae2-4f0e-9257-c5324ffd32e5",
        "colab": {
          "base_uri": "https://localhost:8080/"
        }
      },
      "outputs": [
        {
          "output_type": "stream",
          "name": "stdout",
          "text": [
            "Looking in indexes: https://pypi.org/simple, https://us-python.pkg.dev/colab-wheels/public/simple/\n",
            "Collecting git+https://github.com/deepvision-class/starter-code\n",
            "  Cloning https://github.com/deepvision-class/starter-code to /tmp/pip-req-build-7wbl062b\n",
            "  Running command git clone -q https://github.com/deepvision-class/starter-code /tmp/pip-req-build-7wbl062b\n",
            "Requirement already satisfied: pydrive in /usr/local/lib/python3.7/dist-packages (from Colab-Utils==0.1.dev0) (1.3.1)\n",
            "Requirement already satisfied: PyYAML>=3.0 in /usr/local/lib/python3.7/dist-packages (from pydrive->Colab-Utils==0.1.dev0) (6.0)\n",
            "Requirement already satisfied: oauth2client>=4.0.0 in /usr/local/lib/python3.7/dist-packages (from pydrive->Colab-Utils==0.1.dev0) (4.1.3)\n",
            "Requirement already satisfied: google-api-python-client>=1.2 in /usr/local/lib/python3.7/dist-packages (from pydrive->Colab-Utils==0.1.dev0) (1.12.11)\n",
            "Requirement already satisfied: six<2dev,>=1.13.0 in /usr/local/lib/python3.7/dist-packages (from google-api-python-client>=1.2->pydrive->Colab-Utils==0.1.dev0) (1.15.0)\n",
            "Requirement already satisfied: google-auth<3dev,>=1.16.0 in /usr/local/lib/python3.7/dist-packages (from google-api-python-client>=1.2->pydrive->Colab-Utils==0.1.dev0) (2.14.1)\n",
            "Requirement already satisfied: uritemplate<4dev,>=3.0.0 in /usr/local/lib/python3.7/dist-packages (from google-api-python-client>=1.2->pydrive->Colab-Utils==0.1.dev0) (3.0.1)\n",
            "Requirement already satisfied: google-auth-httplib2>=0.0.3 in /usr/local/lib/python3.7/dist-packages (from google-api-python-client>=1.2->pydrive->Colab-Utils==0.1.dev0) (0.0.4)\n",
            "Requirement already satisfied: httplib2<1dev,>=0.15.0 in /usr/local/lib/python3.7/dist-packages (from google-api-python-client>=1.2->pydrive->Colab-Utils==0.1.dev0) (0.17.4)\n",
            "Requirement already satisfied: google-api-core<3dev,>=1.21.0 in /usr/local/lib/python3.7/dist-packages (from google-api-python-client>=1.2->pydrive->Colab-Utils==0.1.dev0) (2.8.2)\n",
            "Requirement already satisfied: protobuf<5.0.0dev,>=3.15.0 in /usr/local/lib/python3.7/dist-packages (from google-api-core<3dev,>=1.21.0->google-api-python-client>=1.2->pydrive->Colab-Utils==0.1.dev0) (3.19.6)\n",
            "Requirement already satisfied: requests<3.0.0dev,>=2.18.0 in /usr/local/lib/python3.7/dist-packages (from google-api-core<3dev,>=1.21.0->google-api-python-client>=1.2->pydrive->Colab-Utils==0.1.dev0) (2.23.0)\n",
            "Requirement already satisfied: googleapis-common-protos<2.0dev,>=1.56.2 in /usr/local/lib/python3.7/dist-packages (from google-api-core<3dev,>=1.21.0->google-api-python-client>=1.2->pydrive->Colab-Utils==0.1.dev0) (1.56.4)\n",
            "Requirement already satisfied: rsa<5,>=3.1.4 in /usr/local/lib/python3.7/dist-packages (from google-auth<3dev,>=1.16.0->google-api-python-client>=1.2->pydrive->Colab-Utils==0.1.dev0) (4.9)\n",
            "Requirement already satisfied: pyasn1-modules>=0.2.1 in /usr/local/lib/python3.7/dist-packages (from google-auth<3dev,>=1.16.0->google-api-python-client>=1.2->pydrive->Colab-Utils==0.1.dev0) (0.2.8)\n",
            "Requirement already satisfied: cachetools<6.0,>=2.0.0 in /usr/local/lib/python3.7/dist-packages (from google-auth<3dev,>=1.16.0->google-api-python-client>=1.2->pydrive->Colab-Utils==0.1.dev0) (5.2.0)\n",
            "Requirement already satisfied: pyasn1>=0.1.7 in /usr/local/lib/python3.7/dist-packages (from oauth2client>=4.0.0->pydrive->Colab-Utils==0.1.dev0) (0.4.8)\n",
            "Requirement already satisfied: certifi>=2017.4.17 in /usr/local/lib/python3.7/dist-packages (from requests<3.0.0dev,>=2.18.0->google-api-core<3dev,>=1.21.0->google-api-python-client>=1.2->pydrive->Colab-Utils==0.1.dev0) (2022.9.24)\n",
            "Requirement already satisfied: chardet<4,>=3.0.2 in /usr/local/lib/python3.7/dist-packages (from requests<3.0.0dev,>=2.18.0->google-api-core<3dev,>=1.21.0->google-api-python-client>=1.2->pydrive->Colab-Utils==0.1.dev0) (3.0.4)\n",
            "Requirement already satisfied: idna<3,>=2.5 in /usr/local/lib/python3.7/dist-packages (from requests<3.0.0dev,>=2.18.0->google-api-core<3dev,>=1.21.0->google-api-python-client>=1.2->pydrive->Colab-Utils==0.1.dev0) (2.10)\n",
            "Requirement already satisfied: urllib3!=1.25.0,!=1.25.1,<1.26,>=1.21.1 in /usr/local/lib/python3.7/dist-packages (from requests<3.0.0dev,>=2.18.0->google-api-core<3dev,>=1.21.0->google-api-python-client>=1.2->pydrive->Colab-Utils==0.1.dev0) (1.24.3)\n",
            "Building wheels for collected packages: Colab-Utils\n",
            "  Building wheel for Colab-Utils (setup.py) ... \u001b[?25l\u001b[?25hdone\n",
            "  Created wheel for Colab-Utils: filename=Colab_Utils-0.1.dev0-py3-none-any.whl size=10308 sha256=ed7ce12b3ac4b9a1e9009fb6a348fa6c16231b49184fc2cce4c43bdc98932840\n",
            "  Stored in directory: /tmp/pip-ephem-wheel-cache-nsk1cxot/wheels/eb/3c/88/465b0d78ef4a63d1f487c4208bd4691a448f05923eda0ef5f6\n",
            "Successfully built Colab-Utils\n",
            "Installing collected packages: Colab-Utils\n",
            "Successfully installed Colab-Utils-0.1.dev0\n"
          ]
        }
      ],
      "source": [
        "!pip install git+https://github.com/deepvision-class/starter-code"
      ]
    },
    {
      "cell_type": "markdown",
      "metadata": {
        "id": "MzqbYcKdz6ew"
      },
      "source": [
        "## Setup code\n",
        "Run some setup code for this notebook: Import some useful packages and increase the default figure size."
      ]
    },
    {
      "cell_type": "code",
      "execution_count": 4,
      "metadata": {
        "id": "vixlKb-ew72h",
        "tags": [
          "pdf-ignore"
        ]
      },
      "outputs": [],
      "source": [
        "import math\n",
        "import torch\n",
        "import coutils\n",
        "from coutils import extract_drive_file_id, register_colab_notebooks, \\\n",
        "                    fix_random_seed, rel_error, compute_numeric_gradient, Solver\n",
        "import matplotlib.pyplot as plt\n",
        "import time\n",
        "\n",
        "# for plotting\n",
        "%matplotlib inline\n",
        "plt.rcParams['figure.figsize'] = (10.0, 8.0) # set default size of plots\n",
        "plt.rcParams['image.interpolation'] = 'nearest'\n",
        "plt.rcParams['image.cmap'] = 'gray'\n",
        "\n",
        "# data type and device for torch.tensor\n",
        "to_float = {'dtype': torch.float, 'device': 'cpu'}\n",
        "to_float_cuda = {'dtype': torch.float, 'device': 'cuda'}\n",
        "to_double = {'dtype': torch.double, 'device': 'cpu'}\n",
        "to_double_cuda = {'dtype': torch.double, 'device': 'cuda'}\n",
        "to_long = {'dtype': torch.long, 'device': 'cpu'}\n",
        "to_long_cuda = {'dtype': torch.long, 'device': 'cuda'}"
      ]
    },
    {
      "cell_type": "markdown",
      "metadata": {
        "id": "0Saw9jGNm-9-"
      },
      "source": [
        "## Import functions from previous notebook\n",
        "This notebook will re-use some pieces of code that you implemented in the previous notebook.\n",
        "\n",
        "In order to do this, you will need the **Google Drive file ID** of your completed notebook `fully_connected_networks.ipynb`. You can find the this file ID by doing the following:\n",
        "1. Make sure you have saved your completed `fully_connected_networks.ipynb` notebook to your own Google Drive\n",
        "2. Open you finished `fully_connected_networks.ipynb` notebook in Colab.\n",
        "3. Click the \"Share\" button at the top of the screen\n",
        "4. Copy the \"Notebook link\" and paste it in the following cell, assigning it to the `FULLY_CONNECTED_NOTEBOOK_LINK` variable\n",
        "\n",
        "**Important:** If you modify the implementations of any functions in your `fully_connected_networks.ipynb` notebook, **they will not automatically be propagated to this notebook**. For changes to `fully_connected_networks.ipynb` to be propagated to this notebook, you will need to:\n",
        "1. Make sure that you save your modified `fully_connected_networks.ipynb` notebook (File > Save)\n",
        "2. Restart the runtime of this notebook (Runtime > Restart Runtime)\n",
        "3. Rerun all cells in this notebook (in particular the import cell below)"
      ]
    },
    {
      "cell_type": "code",
      "execution_count": 5,
      "metadata": {
        "id": "Xq5yHDeuklId",
        "outputId": "09593b66-ec3f-4ff7-e554-4377411ca061",
        "colab": {
          "base_uri": "https://localhost:8080/"
        }
      },
      "outputs": [
        {
          "output_type": "stream",
          "name": "stdout",
          "text": [
            "Google Drive file id: \"1zQVnMBkS5Es9xJKbqagWhtNzgC5F9P-0\"\n",
            "Import successful!\n"
          ]
        }
      ],
      "source": [
        "FULLY_CONNECTED_NOTEBOOK_LINK = \"https://colab.research.google.com/drive/1zQVnMBkS5Es9xJKbqagWhtNzgC5F9P-0\"\n",
        "\n",
        "fcn_id = extract_drive_file_id(FULLY_CONNECTED_NOTEBOOK_LINK)\n",
        "print('Google Drive file id: \"%s\"' % fcn_id)\n",
        "register_colab_notebooks({'fully_connected_networks': fcn_id})\n",
        "\n",
        "from fully_connected_networks import get_CIFAR10_data\n",
        "from fully_connected_networks import Linear, ReLU, Linear_ReLU, Dropout\n",
        "from fully_connected_networks import svm_loss, softmax_loss\n",
        "from fully_connected_networks import sgd_momentum, rmsprop, adam\n",
        "\n",
        "print('Import successful!')"
      ]
    },
    {
      "cell_type": "markdown",
      "metadata": {
        "id": "HpqGVD5mnjYF"
      },
      "source": [
        "## Load CIFAR-10 data\n",
        "\n",
        "Here we load up our favorite CIFAR-10 data so we can use it to train a classifier on a real dataset."
      ]
    },
    {
      "cell_type": "code",
      "execution_count": 6,
      "metadata": {
        "id": "rEjt-AJRG5dp",
        "outputId": "cceab08d-53b8-4fae-8205-c6a5c6d86c5a",
        "colab": {
          "base_uri": "https://localhost:8080/",
          "height": 637,
          "referenced_widgets": [
            "47a9f7f246d74aa6b31e0a9251fb47f7",
            "6d8753063cfb46ada69e7d173518951d",
            "89bbdebe52024484a624149365f73745",
            "401ed5d09a114d588dfc0a20966cac4f",
            "a0932da6f2a045d7a3678c8476574c66",
            "d12609a1d91f4d1ebe55d9c83c1021eb",
            "d533114927354ceba626ab71a03fffb7",
            "1ab97d6ce87a4da3aec4674cac9a413d",
            "93dc845e4eae42c9a7f8217293aef86a",
            "3b4581a727494ff0925691da859cd3bf",
            "43b7fd7e15cf4752bcc4dfac738ed806"
          ]
        }
      },
      "outputs": [
        {
          "output_type": "stream",
          "name": "stdout",
          "text": [
            "Downloading https://www.cs.toronto.edu/~kriz/cifar-10-python.tar.gz to ./cifar-10-python.tar.gz\n"
          ]
        },
        {
          "output_type": "display_data",
          "data": {
            "text/plain": [
              "  0%|          | 0/170498071 [00:00<?, ?it/s]"
            ],
            "application/vnd.jupyter.widget-view+json": {
              "version_major": 2,
              "version_minor": 0,
              "model_id": "47a9f7f246d74aa6b31e0a9251fb47f7"
            }
          },
          "metadata": {}
        },
        {
          "output_type": "stream",
          "name": "stdout",
          "text": [
            "Extracting ./cifar-10-python.tar.gz to .\n"
          ]
        },
        {
          "output_type": "display_data",
          "data": {
            "text/plain": [
              "<Figure size 720x576 with 1 Axes>"
            ],
            "image/png": "[encoded data removed]"
          },
          "metadata": {
            "needs_background": "light"
          }
        },
        {
          "output_type": "stream",
          "name": "stdout",
          "text": [
            "Train data shape:  torch.Size([47500, 3, 32, 32])\n",
            "Train labels shape:  torch.Size([47500])\n",
            "Validation data shape:  torch.Size([2500, 3, 32, 32])\n",
            "Validation labels shape:  torch.Size([2500])\n",
            "Test data shape:  torch.Size([10000, 3, 32, 32])\n",
            "Test labels shape:  torch.Size([10000])\n"
          ]
        }
      ],
      "source": [
        "# Invoke the above function to get our data.\n",
        "data_dict = get_CIFAR10_data(visualize=True)\n",
        "print('Train data shape: ', data_dict['X_train'].shape)\n",
        "print('Train labels shape: ', data_dict['y_train'].shape)\n",
        "print('Validation data shape: ', data_dict['X_val'].shape)\n",
        "print('Validation labels shape: ', data_dict['y_val'].shape)\n",
        "print('Test data shape: ', data_dict['X_test'].shape)\n",
        "print('Test labels shape: ', data_dict['y_test'].shape)"
      ]
    },
    {
      "cell_type": "markdown",
      "metadata": {
        "id": "CJInAlccoI5e"
      },
      "source": [
        "# Convolutional layer\n",
        "As in the previous notebook, we will package each new neural network operator in a class that defines a `forward` and `backward` function."
      ]
    },
    {
      "cell_type": "code",
      "execution_count": 7,
      "metadata": {
        "id": "N8ZohWR-o_uc"
      },
      "outputs": [],
      "source": [
        "class Conv(object):\n",
        "\n",
        "  @staticmethod\n",
        "  def forward(x, w, b, conv_param):\n",
        "    raise NotImplementedError\n",
        "\n",
        "  @staticmethod\n",
        "  def backward(dout, cache):\n",
        "    raise NotImplementedError"
      ]
    },
    {
      "cell_type": "markdown",
      "metadata": {
        "id": "x07DS91iw72o"
      },
      "source": [
        "## Convolutional layer: forward\n",
        "The core of a convolutional network is the convolution operation. Implement the forward pass for the convolution layer in the function `Conv.forward`. \n",
        "\n",
        "You don't have to worry too much about efficiency at this point; just write the code in whatever way you find most clear.\n",
        "\n",
        "You can test your implementation by running the following:"
      ]
    },
    {
      "cell_type": "code",
      "execution_count": 34,
      "metadata": {
        "id": "48TBbwG0n7WK"
      },
      "outputs": [],
      "source": [
        "def conv_forward(x, w, b, conv_param):\n",
        "  \"\"\"\n",
        "  A naive implementation of the forward pass for a convolutional layer.\n",
        "  The input consists of N data points, each with C channels, height H and\n",
        "  width W. We convolve each input with F different filters, where each filter\n",
        "  spans all C channels and has height HH and width WW.\n",
        "\n",
        "  Input:\n",
        "  - x: Input data of shape (N, C, H, W)\n",
        "  - w: Filter weights of shape (F, C, HH, WW)\n",
        "  - b: Biases, of shape (F,)\n",
        "  - conv_param: A dictionary with the following keys:\n",
        "    - 'stride': The number of pixels between adjacent receptive fields in the\n",
        "    horizontal and vertical directions.\n",
        "    - 'pad': The number of pixels that will be used to zero-pad the input. \n",
        "    \n",
        "  During padding, 'pad' zeros should be placed symmetrically (i.e equally on both sides)\n",
        "  along the height and width axes of the input. Be careful not to modify the original\n",
        "  input x directly.\n",
        "\n",
        "  Returns a tuple of:\n",
        "  - out: Output data, of shape (N, F, H', W') where H' and W' are given by\n",
        "    H' = 1 + (H + 2 * pad - HH) / stride\n",
        "    W' = 1 + (W + 2 * pad - WW) / stride\n",
        "  - cache: (x, w, b, conv_param)\n",
        "  \"\"\"\n",
        "  out = None\n",
        "  ##############################################################################\n",
        "  # TODO: Implement the convolutional forward pass.                            #\n",
        "  # Hint: you can use the function torch.nn.functional.pad for padding.        #\n",
        "  # Note that you are NOT allowed to use anything in torch.nn in other places. #\n",
        "  ##############################################################################\n",
        "  # Replace \"pass\" statement with your code\n",
        "  from math import ceil\n",
        "  N, C, H, W = x.shape\n",
        "  F, _, HH, WW = w.shape\n",
        "  t_dt_d = {'dtype':x.dtype, 'device': x.device}\n",
        "  pad, stride = conv_param['pad'], conv_param['stride']\n",
        "  OH = ceil((H + 2 *pad - HH + 1) / stride)\n",
        "  OW = ceil((W + 2 *pad - WW + 1) / stride)\n",
        "  out = torch.zeros((N, F, OH, OW), **t_dt_d)\n",
        "  assert stride > 0\n",
        "  for ni in range(N):\n",
        "    for fi in range(F):\n",
        "      for ci in range(C):\n",
        "        for ki in range(0, H + 2 * pad - HH + 1, stride):\n",
        "          oi = ki // stride\n",
        "          for kj in range(0, W + 2 * pad - WW + 1, stride):\n",
        "            oj = kj // stride\n",
        "            out[ni][fi][oi][oj] = b[fi]\n",
        "            for i in range(HH):\n",
        "              xi = ki + i - pad\n",
        "              for j in range(WW):\n",
        "                xj = kj + j - pad\n",
        "                if 0 <= xi < H and 0 <= xj < W:\n",
        "                  out[ni][fi][oi][oj] += x[ni][ci][xi][xj] * w[fi][ci][i][j]\n",
        "  print(out)\n",
        "  #############################################################################\n",
        "  #                              END OF YOUR CODE                             #\n",
        "  #############################################################################\n",
        "  cache = (x, w, b, conv_param)\n",
        "  return out, cache\n",
        "\n",
        "Conv.forward = conv_forward"
      ]
    },
    {
      "cell_type": "markdown",
      "metadata": {
        "id": "VeK1fneVy0N3"
      },
      "source": [
        "After implementing the forward pass of the convolution operation, run the following to check your implementation. You should get a relative error less than `1e-7`."
      ]
    },
    {
      "cell_type": "code",
      "execution_count": 35,
      "metadata": {
        "id": "F5R_WY1Iw72p",
        "outputId": "8486ba62-8233-40b6-c646-db8377523823",
        "colab": {
          "base_uri": "https://localhost:8080/"
        }
      },
      "outputs": [
        {
          "output_type": "stream",
          "name": "stdout",
          "text": [
            "tensor([[[[-0.1617, -0.1691],\n",
            "          [-0.1938, -0.2028]],\n",
            "\n",
            "         [[ 0.1902,  0.1924],\n",
            "          [ 0.1963,  0.1968]],\n",
            "\n",
            "         [[ 0.5422,  0.5538],\n",
            "          [ 0.5864,  0.5965]]],\n",
            "\n",
            "\n",
            "        [[[-0.3067, -0.3237],\n",
            "          [-0.3769, -0.3955]],\n",
            "\n",
            "         [[ 0.5031,  0.4957],\n",
            "          [ 0.4711,  0.4620]],\n",
            "\n",
            "         [[ 1.3130,  1.3151],\n",
            "          [ 1.3191,  1.3196]]]], device='cuda:0', dtype=torch.float64)\n",
            "Testing Conv.forward\n",
            "difference:  0.8458344421243479\n"
          ]
        }
      ],
      "source": [
        "x_shape = torch.tensor((2, 3, 4, 4))\n",
        "w_shape = torch.tensor((3, 3, 4, 4))\n",
        "x = torch.linspace(-0.1, 0.5, steps=torch.prod(x_shape), **to_double_cuda).reshape(*x_shape)\n",
        "w = torch.linspace(-0.2, 0.3, steps=torch.prod(w_shape), **to_double_cuda).reshape(*w_shape)\n",
        "b = torch.linspace(-0.1, 0.2, steps=3, **to_double_cuda)\n",
        "\n",
        "conv_param = {'stride': 2, 'pad': 1}\n",
        "out, _ = Conv.forward(x, w, b, conv_param)\n",
        "correct_out = torch.tensor([[[[-0.08759809, -0.10987781],\n",
        "                              [-0.18387192, -0.2109216 ]],\n",
        "                             [[ 0.21027089,  0.21661097],\n",
        "                              [ 0.22847626,  0.23004637]],\n",
        "                             [[ 0.50813986,  0.54309974],\n",
        "                              [ 0.64082444,  0.67101435]]],\n",
        "                            [[[-0.98053589, -1.03143541],\n",
        "                              [-1.19128892, -1.24695841]],\n",
        "                             [[ 0.69108355,  0.66880383],\n",
        "                              [ 0.59480972,  0.56776003]],\n",
        "                             [[ 2.36270298,  2.36904306],\n",
        "                              [ 2.38090835,  2.38247847]]]], **to_double_cuda)\n",
        "\n",
        "# Compare your output to ours; difference should be around e-8\n",
        "print('Testing Conv.forward')\n",
        "print('difference: ', rel_error(out, correct_out))"
      ]
    },
    {
      "cell_type": "markdown",
      "metadata": {
        "id": "N5bKrl7Uw72t"
      },
      "source": [
        "## Aside: Image processing via convolutions\n",
        "\n",
        "As fun way to both check your implementation and gain a better understanding of the type of operation that convolutional layers can perform, we will set up an input containing two images and manually set up filters that perform common image processing operations (grayscale conversion and edge detection). The convolution forward pass will apply these operations to each of the input images. We can then visualize the results as a sanity check."
      ]
    },
    {
      "cell_type": "code",
      "execution_count": null,
      "metadata": {
        "id": "k8BffZxdw72u",
        "tags": [
          "pdf-ignore-input"
        ]
      },
      "outputs": [],
      "source": [
        "from imageio import imread\n",
        "from PIL import Image\n",
        "from torchvision.transforms import ToTensor\n",
        "\n",
        "kitten_url = 'https://web.eecs.umich.edu/~justincj/teaching/eecs498/assets/a3/kitten.jpg'\n",
        "puppy_url = 'https://web.eecs.umich.edu/~justincj/teaching/eecs498/assets/a3/puppy.jpg'\n",
        "\n",
        "kitten = imread(kitten_url)\n",
        "puppy = imread(puppy_url)\n",
        "# kitten is wide, and puppy is already square\n",
        "d = kitten.shape[1] - kitten.shape[0]\n",
        "kitten_cropped = kitten[:, d//2:-d//2, :]\n",
        "\n",
        "img_size = 200   # Make this smaller if it runs too slow\n",
        "resized_puppy = ToTensor()(Image.fromarray(puppy).resize((img_size, img_size)))\n",
        "resized_kitten = ToTensor()(Image.fromarray(kitten_cropped).resize((img_size, img_size)))\n",
        "x = torch.stack([resized_puppy, resized_kitten])\n",
        "\n",
        "# Set up a convolutional weights holding 2 filters, each 3x3\n",
        "w = torch.zeros(2, 3, 3, 3, dtype=x.dtype)\n",
        "\n",
        "# The first filter converts the image to grayscale.\n",
        "# Set up the red, green, and blue channels of the filter.\n",
        "w[0, 0, :, :] = torch.tensor([[0, 0, 0], [0, 0.3, 0], [0, 0, 0]])\n",
        "w[0, 1, :, :] = torch.tensor([[0, 0, 0], [0, 0.6, 0], [0, 0, 0]])\n",
        "w[0, 2, :, :] = torch.tensor([[0, 0, 0], [0, 0.1, 0], [0, 0, 0]])\n",
        "\n",
        "# Second filter detects horizontal edges in the blue channel.\n",
        "w[1, 2, :, :] = torch.tensor([[1, 2, 1], [0, 0, 0], [-1, -2, -1]])\n",
        "\n",
        "# Vector of biases. We don't need any bias for the grayscale\n",
        "# filter, but for the edge detection filter we want to add 128\n",
        "# to each output so that nothing is negative.\n",
        "b = torch.tensor([0, 128], dtype=x.dtype)\n",
        "\n",
        "# Compute the result of convolving each input in x with each filter in w,\n",
        "# offsetting by b, and storing the results in out.\n",
        "out, _ = Conv.forward(x, w, b, {'stride': 1, 'pad': 1})\n",
        "\n",
        "def imshow_no_ax(img, normalize=True):\n",
        "  \"\"\" Tiny helper to show images as uint8 and remove axis labels \"\"\"\n",
        "  if normalize:\n",
        "    img_max, img_min = img.max(), img.min()\n",
        "    img = 255.0 * (img - img_min) / (img_max - img_min)\n",
        "  plt.imshow(img)\n",
        "  plt.gca().axis('off')\n",
        "\n",
        "# Show the original images and the results of the conv operation\n",
        "plt.subplot(2, 3, 1)\n",
        "imshow_no_ax(puppy, normalize=False)\n",
        "plt.title('Original image')\n",
        "plt.subplot(2, 3, 2)\n",
        "imshow_no_ax(out[0, 0])\n",
        "plt.title('Grayscale')\n",
        "plt.subplot(2, 3, 3)\n",
        "imshow_no_ax(out[0, 1])\n",
        "plt.title('Edges')\n",
        "plt.subplot(2, 3, 4)\n",
        "imshow_no_ax(kitten_cropped, normalize=False)\n",
        "plt.subplot(2, 3, 5)\n",
        "imshow_no_ax(out[1, 0])\n",
        "plt.subplot(2, 3, 6)\n",
        "imshow_no_ax(out[1, 1])\n",
        "plt.show()"
      ]
    },
    {
      "cell_type": "markdown",
      "metadata": {
        "id": "Lqsg-NxHw72y"
      },
      "source": [
        "## Convolutional layer: backward\n",
        "Implement the backward pass for the convolution operation in the function `Conv.backward`. Again, you don't need to worry too much about computational efficiency."
      ]
    },
    {
      "cell_type": "code",
      "execution_count": null,
      "metadata": {
        "id": "sPE64kjCqtEz"
      },
      "outputs": [],
      "source": [
        "def conv_backward(dout, cache):\n",
        "  \"\"\"\n",
        "  A naive implementation of the backward pass for a convolutional layer.\n",
        "\n",
        "  Inputs:\n",
        "  - dout: Upstream derivatives.\n",
        "  - cache: A tuple of (x, w, b, conv_param) as in conv_forward_naive\n",
        "\n",
        "  Returns a tuple of:\n",
        "  - dx: Gradient with respect to x\n",
        "  - dw: Gradient with respect to w\n",
        "  - db: Gradient with respect to b\n",
        "  \"\"\"\n",
        "  dx, dw, db = None, None, None\n",
        "  #############################################################################\n",
        "  # TODO: Implement the convolutional backward pass.                          #\n",
        "  #############################################################################\n",
        "  # Replace \"pass\" statement with your code\n",
        "  pass\n",
        "  #############################################################################\n",
        "  #                              END OF YOUR CODE                             #\n",
        "  #############################################################################\n",
        "  return dx, dw, db\n",
        "\n",
        "Conv.backward = conv_backward"
      ]
    },
    {
      "cell_type": "markdown",
      "metadata": {
        "id": "fgj8WovMzYtJ"
      },
      "source": [
        "After implementing the convolution backward pass, run the following to test your implementation. You should get errors less than `1e-8`."
      ]
    },
    {
      "cell_type": "code",
      "execution_count": null,
      "metadata": {
        "id": "77NxvIGpw720"
      },
      "outputs": [],
      "source": [
        "fix_random_seed(0)\n",
        "x = torch.randn(4, 3, 5, 5, **to_double_cuda)\n",
        "w = torch.randn(2, 3, 3, 3, **to_double_cuda)\n",
        "b = torch.randn(2, **to_double_cuda)\n",
        "dout = torch.randn(4, 2, 5, 5, **to_double_cuda)\n",
        "conv_param = {'stride': 1, 'pad': 1}\n",
        "\n",
        "dx_num = compute_numeric_gradient(lambda x: Conv.forward(x, w, b, conv_param)[0], x, dout)\n",
        "dw_num = compute_numeric_gradient(lambda w: Conv.forward(x, w, b, conv_param)[0], w, dout)\n",
        "db_num = compute_numeric_gradient(lambda b: Conv.forward(x, w, b, conv_param)[0], b, dout)\n",
        "\n",
        "out, cache = Conv.forward(x, w, b, conv_param)\n",
        "dx, dw, db = Conv.backward(dout, cache)\n",
        "\n",
        "print('Testing Conv.backward function')\n",
        "print('dx error: ', rel_error(dx, dx_num))\n",
        "print('dw error: ', rel_error(dw, dw_num))\n",
        "print('db error: ', rel_error(db, db_num))"
      ]
    },
    {
      "cell_type": "markdown",
      "metadata": {
        "id": "CS8EsPacrpG8"
      },
      "source": [
        "# Max-pooling"
      ]
    },
    {
      "cell_type": "code",
      "execution_count": null,
      "metadata": {
        "id": "anBWiAVVr24F"
      },
      "outputs": [],
      "source": [
        "class MaxPool(object):\n",
        "\n",
        "  @staticmethod\n",
        "  def forward(x, pool_param):\n",
        "    raise NotImplementedError\n",
        "\n",
        "  @staticmethod\n",
        "  def backward(dout, cache):\n",
        "    raise NotImplementedError"
      ]
    },
    {
      "cell_type": "markdown",
      "metadata": {
        "id": "elO_ys-8w723"
      },
      "source": [
        "## Max-pooling: forward\n",
        "Implement the forward pass for the max-pooling operation. Again, don't worry too much about computational efficiency."
      ]
    },
    {
      "cell_type": "code",
      "execution_count": null,
      "metadata": {
        "id": "0z5_oQ2PrWCZ"
      },
      "outputs": [],
      "source": [
        "def max_pool_forward(x, pool_param):\n",
        "  \"\"\"\n",
        "  A naive implementation of the forward pass for a max-pooling layer.\n",
        "\n",
        "  Inputs:\n",
        "  - x: Input data, of shape (N, C, H, W)\n",
        "  - pool_param: dictionary with the following keys:\n",
        "    - 'pool_height': The height of each pooling region\n",
        "    - 'pool_width': The width of each pooling region\n",
        "    - 'stride': The distance between adjacent pooling regions\n",
        "  No padding is necessary here.\n",
        "\n",
        "  Returns a tuple of:\n",
        "  - out: Output data, of shape (N, C, H', W') where H' and W' are given by\n",
        "    H' = 1 + (H - pool_height) / stride\n",
        "    W' = 1 + (W - pool_width) / stride\n",
        "  - cache: (x, pool_param)\n",
        "  \"\"\"\n",
        "  out = None\n",
        "  #############################################################################\n",
        "  # TODO: Implement the max-pooling forward pass                              #\n",
        "  #############################################################################\n",
        "  # Replace \"pass\" statement with your code\n",
        "  pass\n",
        "  #############################################################################\n",
        "  #                              END OF YOUR CODE                             #\n",
        "  #############################################################################\n",
        "  cache = (x, pool_param)\n",
        "  return out, cache\n",
        "\n",
        "MaxPool.forward = max_pool_forward"
      ]
    },
    {
      "cell_type": "markdown",
      "metadata": {
        "id": "PeKxeFUN0L8a"
      },
      "source": [
        "After implementing the forward pass for max-pooling, run the following to check your implementation. You should get errors less than `1e-7`."
      ]
    },
    {
      "cell_type": "code",
      "execution_count": null,
      "metadata": {
        "id": "qmNJY6E7w724"
      },
      "outputs": [],
      "source": [
        "x_shape = torch.tensor((2, 3, 4, 4))\n",
        "x = torch.linspace(-0.3, 0.4, steps=torch.prod(x_shape), **to_double_cuda).reshape(*x_shape)\n",
        "pool_param = {'pool_width': 2, 'pool_height': 2, 'stride': 2}\n",
        "\n",
        "out, _ = MaxPool.forward(x, pool_param)\n",
        "\n",
        "correct_out = torch.tensor([[[[-0.26315789, -0.24842105],\n",
        "                              [-0.20421053, -0.18947368]],\n",
        "                             [[-0.14526316, -0.13052632],\n",
        "                              [-0.08631579, -0.07157895]],\n",
        "                             [[-0.02736842, -0.01263158],\n",
        "                              [ 0.03157895,  0.04631579]]],\n",
        "                            [[[ 0.09052632,  0.10526316],\n",
        "                              [ 0.14947368,  0.16421053]],\n",
        "                             [[ 0.20842105,  0.22315789],\n",
        "                              [ 0.26736842,  0.28210526]],\n",
        "                             [[ 0.32631579,  0.34105263],\n",
        "                              [ 0.38526316,  0.4       ]]]], **to_double_cuda)\n",
        "\n",
        "# Compare your output with ours. Difference should be on the order of e-8.\n",
        "print('Testing MaxPool.forward function:')\n",
        "print('difference: ', rel_error(out, correct_out))"
      ]
    },
    {
      "cell_type": "markdown",
      "metadata": {
        "id": "lLjMhG4nw728"
      },
      "source": [
        "## Max-pooling: backward\n",
        "Implement the backward pass for the max-pooling operation. You don't need to worry about computational efficiency."
      ]
    },
    {
      "cell_type": "code",
      "execution_count": null,
      "metadata": {
        "id": "retdcruisTj7"
      },
      "outputs": [],
      "source": [
        "def max_pool_backward(dout, cache):\n",
        "  \"\"\"\n",
        "  A naive implementation of the backward pass for a max-pooling layer.\n",
        "  Inputs:\n",
        "  - dout: Upstream derivatives\n",
        "  - cache: A tuple of (x, pool_param) as in the forward pass.\n",
        "  Returns:\n",
        "  - dx: Gradient with respect to x\n",
        "  \"\"\"\n",
        "  dx = None\n",
        "  #############################################################################\n",
        "  # TODO: Implement the max-pooling backward pass                             #\n",
        "  #############################################################################\n",
        "  # Replace \"pass\" statement with your code\n",
        "  pass\n",
        "  #############################################################################\n",
        "  #                              END OF YOUR CODE                             #\n",
        "  #############################################################################\n",
        "  return dx\n",
        "\n",
        "MaxPool.backward = max_pool_backward"
      ]
    },
    {
      "cell_type": "markdown",
      "metadata": {
        "id": "48x6OP5J0WjS"
      },
      "source": [
        "Check your implementation of the max pooling backward pass with numeric gradient checking by running the following. You should get errors less than `1e-10`."
      ]
    },
    {
      "cell_type": "code",
      "execution_count": null,
      "metadata": {
        "id": "9FTLuSsIw729"
      },
      "outputs": [],
      "source": [
        "fix_random_seed(0)\n",
        "x = torch.randn(3, 2, 8, 8, **to_double_cuda)\n",
        "dout = torch.randn(3, 2, 4, 4, **to_double_cuda)\n",
        "pool_param = {'pool_height': 2, 'pool_width': 2, 'stride': 2}\n",
        "\n",
        "dx_num = compute_numeric_gradient(lambda x: MaxPool.forward(x, pool_param)[0], x, dout)\n",
        "\n",
        "out, cache = MaxPool.forward(x, pool_param)\n",
        "dx = MaxPool.backward(dout, cache)\n",
        "\n",
        "print('Testing MaxPool.backward function:')\n",
        "print('dx error: ', rel_error(dx, dx_num))"
      ]
    },
    {
      "cell_type": "markdown",
      "metadata": {
        "id": "0-GA5mHcw73A"
      },
      "source": [
        "# Fast layers\n",
        "Making convolution and pooling layers fast can be challenging. To spare you the pain, we've provided fast implementations of the forward and backward passes for convolution and pooling layers.\n",
        "\n",
        "The fast convolution implementation depends on `torch.nn`\n",
        "\n",
        "The API for the fast versions of the convolution and pooling layers is exactly the same as the naive versions that you implemented above: the forward pass receives data, weights, and parameters and produces outputs and a cache object; the backward pass recieves upstream derivatives and the cache object and produces gradients with respect to the data and weights.\n",
        "\n",
        "You can compare the performance of the naive and fast versions of these layers by running the following:"
      ]
    },
    {
      "cell_type": "code",
      "execution_count": null,
      "metadata": {
        "id": "KONf6gRfs7sl"
      },
      "outputs": [],
      "source": [
        "class FastConv(object):\n",
        "\n",
        "  @staticmethod\n",
        "  def forward(x, w, b, conv_param):\n",
        "    N, C, H, W = x.shape\n",
        "    F, _, HH, WW = w.shape\n",
        "    stride, pad = conv_param['stride'], conv_param['pad']\n",
        "    layer = torch.nn.Conv2d(C, F, (HH, WW), stride=stride, padding=pad)\n",
        "    layer.weight = torch.nn.Parameter(w)\n",
        "    layer.bias = torch.nn.Parameter(b)\n",
        "    tx = x.detach()\n",
        "    tx.requires_grad = True\n",
        "    out = layer(tx)\n",
        "    cache = (x, w, b, conv_param, tx, out, layer)\n",
        "    return out, cache\n",
        "\n",
        "  @staticmethod\n",
        "  def backward(dout, cache):\n",
        "    try:\n",
        "      x, _, _, _, tx, out, layer = cache\n",
        "      out.backward(dout)\n",
        "      dx = tx.grad.detach()\n",
        "      dw = layer.weight.grad.detach()\n",
        "      db = layer.bias.grad.detach()\n",
        "      layer.weight.grad = layer.bias.grad = None\n",
        "    except RuntimeError:\n",
        "      dx, dw, db = torch.zeros_like(tx), torch.zeros_like(layer.weight), torch.zeros_like(layer.bias)\n",
        "    return dx, dw, db\n",
        "\n",
        "\n",
        "class FastMaxPool(object):\n",
        "\n",
        "  @staticmethod\n",
        "  def forward(x, pool_param):\n",
        "    N, C, H, W = x.shape\n",
        "    pool_height, pool_width = pool_param['pool_height'], pool_param['pool_width']\n",
        "    stride = pool_param['stride']\n",
        "    layer = torch.nn.MaxPool2d(kernel_size=(pool_height, pool_width), stride=stride)\n",
        "    tx = x.detach()\n",
        "    tx.requires_grad = True\n",
        "    out = layer(tx)\n",
        "    cache = (x, pool_param, tx, out, layer)\n",
        "    return out, cache\n",
        "\n",
        "  @staticmethod\n",
        "  def backward(dout, cache):\n",
        "    try:\n",
        "      x, _, tx, out, layer = cache\n",
        "      out.backward(dout)\n",
        "      dx = tx.grad.detach()\n",
        "    except RuntimeError:\n",
        "      dx = torch.zeros_like(tx)\n",
        "    return dx"
      ]
    },
    {
      "cell_type": "markdown",
      "metadata": {
        "id": "Z7B_QYt206g4"
      },
      "source": [
        "We will now compare three different implementations of convolution (both forward and backward):\n",
        "\n",
        "1. Your naive, non-vectorized implementation on CPU\n",
        "2. The fast, vectorized implementation on CPU\n",
        "3. The fast, vectorized implementation on GPU\n",
        "\n",
        "The differences between your implementation and FastConv should be less than `1e-10`. When moving from your implementation to FastConv CPU, you will likely see speedups of at least 100x. When comparing your implementation to FastConv CUDA, you will likely see speedups of more than 500x. (These speedups are not hard requirements for this assignment since we are not asking you to write any vectorized implementations)"
      ]
    },
    {
      "cell_type": "code",
      "execution_count": null,
      "metadata": {
        "id": "mSbc5Ttvw73C"
      },
      "outputs": [],
      "source": [
        "# Rel errors should be around e-11 or less\n",
        "fix_random_seed(0)\n",
        "x = torch.randn(10, 3, 31, 31, **to_double)\n",
        "w = torch.randn(25, 3, 3, 3, **to_double)\n",
        "b = torch.randn(25, **to_double)\n",
        "dout = torch.randn(10, 25, 16, 16, **to_double)\n",
        "x_cuda, w_cuda, b_cuda, dout_cuda = x.to('cuda'), w.to('cuda'), b.to('cuda'), dout.to('cuda')\n",
        "conv_param = {'stride': 2, 'pad': 1}\n",
        "\n",
        "t0 = time.time()\n",
        "out_naive, cache_naive = Conv.forward(x, w, b, conv_param)\n",
        "t1 = time.time()\n",
        "out_fast, cache_fast = FastConv.forward(x, w, b, conv_param)\n",
        "t2 = time.time()\n",
        "out_fast_cuda, cache_fast_cuda = FastConv.forward(x_cuda, w_cuda, b_cuda, conv_param)\n",
        "t3 = time.time()\n",
        "\n",
        "print('Testing FastConv.forward:')\n",
        "print('Naive: %fs' % (t1 - t0))\n",
        "print('Fast: %fs' % (t2 - t1))\n",
        "print('Fast CUDA: %fs' % (t3 - t2))\n",
        "print('Speedup: %fx' % ((t1 - t0) / (t2 - t1)))\n",
        "print('Speedup CUDA: %fx' % ((t1 - t0) / (t3 - t2)))\n",
        "print('Difference: ', rel_error(out_naive, out_fast))\n",
        "print('Difference CUDA: ', rel_error(out_naive, out_fast_cuda.to(out_naive.device)))\n",
        "\n",
        "t0 = time.time()\n",
        "dx_naive, dw_naive, db_naive = Conv.backward(dout, cache_naive)\n",
        "t1 = time.time()\n",
        "dx_fast, dw_fast, db_fast = FastConv.backward(dout, cache_fast)\n",
        "t2 = time.time()\n",
        "dx_fast_cuda, dw_fast_cuda, db_fast_cuda = FastConv.backward(dout_cuda, cache_fast_cuda)\n",
        "t3 = time.time()\n",
        "\n",
        "print('\\nTesting FastConv.backward:')\n",
        "print('Naive: %fs' % (t1 - t0))\n",
        "print('Fast: %fs' % (t2 - t1))\n",
        "print('Fast CUDA: %fs' % (t3 - t2))\n",
        "print('Speedup: %fx' % ((t1 - t0) / (t2 - t1)))\n",
        "print('Speedup CUDA: %fx' % ((t1 - t0) / (t3 - t2)))\n",
        "print('dx difference: ', rel_error(dx_naive, dx_fast))\n",
        "print('dw difference: ', rel_error(dw_naive, dw_fast))\n",
        "print('db difference: ', rel_error(db_naive, db_fast))\n",
        "print('dx difference CUDA: ', rel_error(dx_naive, dx_fast_cuda.to(dx_naive.device)))\n",
        "print('dw difference CUDA: ', rel_error(dw_naive, dw_fast_cuda.to(dw_naive.device)))\n",
        "print('db difference CUDA: ', rel_error(db_naive, db_fast_cuda.to(db_naive.device)))"
      ]
    },
    {
      "cell_type": "markdown",
      "metadata": {
        "id": "HdvR1krO2P_q"
      },
      "source": [
        "We will now similarly compare your naive implementation of max pooling against the fast implementation. You should see differences of 0 between your implementation and the fast implementation.\n",
        "\n",
        "When comparing your implementation against FastMaxPool on CPU, you will likely see speedups of more than 100x. When comparing your implementation against FastMaxPool on GPU, you will likely see speedups of more than 500x."
      ]
    },
    {
      "cell_type": "code",
      "execution_count": null,
      "metadata": {
        "id": "R0fykwCiw73F"
      },
      "outputs": [],
      "source": [
        "# Relative errors should be close to 0.0\n",
        "fix_random_seed(0)\n",
        "x = torch.randn(40, 3, 32, 32, **to_double)\n",
        "dout = torch.randn(40, 3, 16, 16, **to_double)\n",
        "x_cuda, dout_cuda = x.to('cuda'), dout.to('cuda')\n",
        "pool_param = {'pool_height': 2, 'pool_width': 2, 'stride': 2}\n",
        "\n",
        "t0 = time.time()\n",
        "out_naive, cache_naive = MaxPool.forward(x, pool_param)\n",
        "t1 = time.time()\n",
        "out_fast, cache_fast = FastMaxPool.forward(x, pool_param)\n",
        "t2 = time.time()\n",
        "out_fast_cuda, cache_fast_cuda = FastMaxPool.forward(x_cuda, pool_param)\n",
        "t3 = time.time()\n",
        "\n",
        "print('Testing FastMaxPool.forward:')\n",
        "print('Naive: %fs' % (t1 - t0))\n",
        "print('Fast: %fs' % (t2 - t1))\n",
        "print('Fast CUDA: %fs' % (t3 - t2))\n",
        "print('Speedup: %fx' % ((t1 - t0) / (t2 - t1)))\n",
        "print('Speedup CUDA: %fx' % ((t1 - t0) / (t3 - t2)))\n",
        "print('Difference: ', rel_error(out_naive, out_fast))\n",
        "print('Difference CUDA: ', rel_error(out_naive, out_fast_cuda.to(out_naive.device)))\n",
        "\n",
        "t0 = time.time()\n",
        "dx_naive = MaxPool.backward(dout, cache_naive)\n",
        "t1 = time.time()\n",
        "dx_fast = FastMaxPool.backward(dout, cache_fast)\n",
        "t2 = time.time()\n",
        "dx_fast_cuda = FastMaxPool.backward(dout_cuda, cache_fast_cuda)\n",
        "t3 = time.time()\n",
        "\n",
        "print('\\nTesting FastMaxPool.backward:')\n",
        "print('Naive: %fs' % (t1 - t0))\n",
        "print('Fast: %fs' % (t2 - t1))\n",
        "print('Fast CUDA: %fs' % (t3 - t2))\n",
        "print('Speedup: %fx' % ((t1 - t0) / (t2 - t1)))\n",
        "print('Speedup CUDA: %fx' % ((t1 - t0) / (t3 - t2)))\n",
        "print('dx difference: ', rel_error(dx_naive, dx_fast))\n",
        "print('dx difference CUDA: ', rel_error(dx_naive, dx_fast_cuda.to(dx_naive.device)))"
      ]
    },
    {
      "cell_type": "markdown",
      "metadata": {
        "id": "Ix9ih6sKw73I"
      },
      "source": [
        "# Convolutional \"sandwich\" layers\n",
        "Previously we introduced the concept of \"sandwich\" layers that combine multiple operations into commonly used patterns. Below you will find sandwich layers that implement a few commonly used patterns for convolutional networks. Run the cells below to sanity check they're working."
      ]
    },
    {
      "cell_type": "code",
      "execution_count": null,
      "metadata": {
        "id": "bx5o2y4Jxx2I"
      },
      "outputs": [],
      "source": [
        "class Conv_ReLU(object):\n",
        "\n",
        "  @staticmethod\n",
        "  def forward(x, w, b, conv_param):\n",
        "    \"\"\"\n",
        "    A convenience layer that performs a convolution followed by a ReLU.\n",
        "    Inputs:\n",
        "    - x: Input to the convolutional layer\n",
        "    - w, b, conv_param: Weights and parameters for the convolutional layer\n",
        "    Returns a tuple of:\n",
        "    - out: Output from the ReLU\n",
        "    - cache: Object to give to the backward pass\n",
        "    \"\"\"\n",
        "    a, conv_cache = FastConv.forward(x, w, b, conv_param)\n",
        "    out, relu_cache = ReLU.forward(a)\n",
        "    cache = (conv_cache, relu_cache)\n",
        "    return out, cache\n",
        "\n",
        "  @staticmethod\n",
        "  def backward(dout, cache):\n",
        "    \"\"\"\n",
        "    Backward pass for the conv-relu convenience layer.\n",
        "    \"\"\"\n",
        "    conv_cache, relu_cache = cache\n",
        "    da = ReLU.backward(dout, relu_cache)\n",
        "    dx, dw, db = FastConv.backward(da, conv_cache)\n",
        "    return dx, dw, db\n",
        "\n",
        "\n",
        "class Conv_ReLU_Pool(object):\n",
        "\n",
        "  @staticmethod\n",
        "  def forward(x, w, b, conv_param, pool_param):\n",
        "    \"\"\"\n",
        "    A convenience layer that performs a convolution, a ReLU, and a pool.\n",
        "    Inputs:\n",
        "    - x: Input to the convolutional layer\n",
        "    - w, b, conv_param: Weights and parameters for the convolutional layer\n",
        "    - pool_param: Parameters for the pooling layer\n",
        "    Returns a tuple of:\n",
        "    - out: Output from the pooling layer\n",
        "    - cache: Object to give to the backward pass\n",
        "    \"\"\"\n",
        "    a, conv_cache = FastConv.forward(x, w, b, conv_param)\n",
        "    s, relu_cache = ReLU.forward(a)\n",
        "    out, pool_cache = FastMaxPool.forward(s, pool_param)\n",
        "    cache = (conv_cache, relu_cache, pool_cache)\n",
        "    return out, cache\n",
        "\n",
        "  @staticmethod\n",
        "  def backward(dout, cache):\n",
        "    \"\"\"\n",
        "    Backward pass for the conv-relu-pool convenience layer\n",
        "    \"\"\"\n",
        "    conv_cache, relu_cache, pool_cache = cache\n",
        "    ds = FastMaxPool.backward(dout, pool_cache)\n",
        "    da = ReLU.backward(ds, relu_cache)\n",
        "    dx, dw, db = FastConv.backward(da, conv_cache)\n",
        "    return dx, dw, db"
      ]
    },
    {
      "cell_type": "markdown",
      "metadata": {
        "id": "JsWygDZi2tFy"
      },
      "source": [
        "Test the implementations of the sandwich layers by running the following. You should see errors less than `1e-7`."
      ]
    },
    {
      "cell_type": "code",
      "execution_count": null,
      "metadata": {
        "id": "B-0DpEY8w73J"
      },
      "outputs": [],
      "source": [
        "fix_random_seed(0)\n",
        "x = torch.randn(2, 3, 16, 16, **to_double_cuda)\n",
        "w = torch.randn(3, 3, 3, 3, **to_double_cuda)\n",
        "b = torch.randn(3, **to_double_cuda)\n",
        "dout = torch.randn(2, 3, 8, 8, **to_double_cuda)\n",
        "conv_param = {'stride': 1, 'pad': 1}\n",
        "pool_param = {'pool_height': 2, 'pool_width': 2, 'stride': 2}\n",
        "\n",
        "out, cache = Conv_ReLU_Pool.forward(x, w, b, conv_param, pool_param)\n",
        "dx, dw, db = Conv_ReLU_Pool.backward(dout, cache)\n",
        "\n",
        "dx_num = compute_numeric_gradient(lambda x: Conv_ReLU_Pool.forward(x, w, b, conv_param, pool_param)[0], x, dout)\n",
        "dw_num = compute_numeric_gradient(lambda w: Conv_ReLU_Pool.forward(x, w, b, conv_param, pool_param)[0], w, dout)\n",
        "db_num = compute_numeric_gradient(lambda b: Conv_ReLU_Pool.forward(x, w, b, conv_param, pool_param)[0], b, dout)\n",
        "\n",
        "# Relative errors should be around e-8 or less\n",
        "print('Testing Conv_ReLU_Pool')\n",
        "print('dx error: ', rel_error(dx_num, dx))\n",
        "print('dw error: ', rel_error(dw_num, dw))\n",
        "print('db error: ', rel_error(db_num, db))"
      ]
    },
    {
      "cell_type": "code",
      "execution_count": null,
      "metadata": {
        "id": "WjtyDWxPw73M"
      },
      "outputs": [],
      "source": [
        "fix_random_seed(0)\n",
        "x = torch.randn(2, 3, 8, 8, **to_double_cuda)\n",
        "w = torch.randn(3, 3, 3, 3, **to_double_cuda)\n",
        "b = torch.randn(3, **to_double_cuda)\n",
        "dout = torch.randn(2, 3, 8, 8, **to_double_cuda)\n",
        "conv_param = {'stride': 1, 'pad': 1}\n",
        "\n",
        "out, cache = Conv_ReLU.forward(x, w, b, conv_param)\n",
        "dx, dw, db = Conv_ReLU.backward(dout, cache)\n",
        "\n",
        "dx_num = compute_numeric_gradient(lambda x: Conv_ReLU.forward(x, w, b, conv_param)[0], x, dout)\n",
        "dw_num = compute_numeric_gradient(lambda w: Conv_ReLU.forward(x, w, b, conv_param)[0], w, dout)\n",
        "db_num = compute_numeric_gradient(lambda b: Conv_ReLU.forward(x, w, b, conv_param)[0], b, dout)\n",
        "\n",
        "# Relative errors should be around e-8 or less\n",
        "print('Testing Conv_ReLU:')\n",
        "print('dx error: ', rel_error(dx_num, dx))\n",
        "print('dw error: ', rel_error(dw_num, dw))\n",
        "print('db error: ', rel_error(db_num, db))"
      ]
    },
    {
      "cell_type": "markdown",
      "metadata": {
        "id": "Kgp7ymihw73P"
      },
      "source": [
        "# Three-layer convolutional network\n",
        "Now that you have implemented all the necessary layers, we can put them together into a simple convolutional network.\n",
        "\n",
        "Complete the implementation of the `ThreeLayerConvNet` class. We STRONGLY recommend you to use the fast/sandwich layers (already imported for you) in your implementation. Run the following cells to help you debug:"
      ]
    },
    {
      "cell_type": "code",
      "execution_count": null,
      "metadata": {
        "id": "DIN4bw-R0v0D"
      },
      "outputs": [],
      "source": [
        "class ThreeLayerConvNet(object):\n",
        "  \"\"\"\n",
        "  A three-layer convolutional network with the following architecture:\n",
        "  conv - relu - 2x2 max pool - linear - relu - linear - softmax\n",
        "  The network operates on minibatches of data that have shape (N, C, H, W)\n",
        "  consisting of N images, each with height H and width W and with C input\n",
        "  channels.\n",
        "  \"\"\"\n",
        "\n",
        "  def __init__(self, input_dims=(3, 32, 32), num_filters=32, filter_size=7,\n",
        "         hidden_dim=100, num_classes=10, weight_scale=1e-3, reg=0.0,\n",
        "         dtype=torch.float, device='cpu'):\n",
        "    \"\"\"\n",
        "    Initialize a new network.\n",
        "    Inputs:\n",
        "    - input_dims: Tuple (C, H, W) giving size of input data\n",
        "    - num_filters: Number of filters to use in the convolutional layer\n",
        "    - filter_size: Width/height of filters to use in the convolutional layer\n",
        "    - hidden_dim: Number of units to use in the fully-connected hidden layer\n",
        "    - num_classes: Number of scores to produce from the final linear layer.\n",
        "    - weight_scale: Scalar giving standard deviation for random initialization\n",
        "      of weights.\n",
        "    - reg: Scalar giving L2 regularization strength\n",
        "    - dtype: A torch data type object; all computations will be performed using\n",
        "      this datatype. float is faster but less accurate, so you should use\n",
        "      double for numeric gradient checking.\n",
        "    - device: device to use for computation. 'cpu' or 'cuda'\n",
        "    \"\"\"\n",
        "    self.params = {}\n",
        "    self.reg = reg\n",
        "    self.dtype = dtype\n",
        "\n",
        "    ############################################################################\n",
        "    # TODO: Initialize weights and biases for the three-layer convolutional    #\n",
        "    # network. Weights should be initialized from a Gaussian centered at 0.0   #\n",
        "    # with standard deviation equal to weight_scale; biases should be          #\n",
        "    # initialized to zero. All weights and biases should be stored in the      #\n",
        "    #  dictionary self.params. Store weights and biases for the convolutional  #\n",
        "    # layer using the keys 'W1' and 'b1'; use keys 'W2' and 'b2' for the       #\n",
        "    # weights and biases of the hidden linear layer, and keys 'W3' and 'b3'    #\n",
        "    # for the weights and biases of the output linear layer.                   #\n",
        "    #                                                                          #\n",
        "    # IMPORTANT: For this assignment, you can assume that the padding          #\n",
        "    # and stride of the first convolutional layer are chosen so that           #\n",
        "    # **the width and height of the input are preserved**. Take a look at      #\n",
        "    # the start of the loss() function to see how that happens.                #               \n",
        "    ############################################################################\n",
        "    # Replace \"pass\" statement with your code\n",
        "    pass\n",
        "    ############################################################################\n",
        "    #                             END OF YOUR CODE                             #\n",
        "    ############################################################################\n",
        "\n",
        "\n",
        "  def loss(self, X, y=None):\n",
        "    \"\"\"\n",
        "    Evaluate loss and gradient for the three-layer convolutional network.\n",
        "    Input / output: Same API as TwoLayerNet.\n",
        "    \"\"\"\n",
        "    X = X.to(self.dtype)\n",
        "    W1, b1 = self.params['W1'], self.params['b1']\n",
        "    W2, b2 = self.params['W2'], self.params['b2']\n",
        "    W3, b3 = self.params['W3'], self.params['b3']\n",
        "\n",
        "    # pass conv_param to the forward pass for the convolutional layer\n",
        "    # Padding and stride chosen to preserve the input spatial size\n",
        "    filter_size = W1.shape[2]\n",
        "    conv_param = {'stride': 1, 'pad': (filter_size - 1) // 2}\n",
        "\n",
        "    # pass pool_param to the forward pass for the max-pooling layer\n",
        "    pool_param = {'pool_height': 2, 'pool_width': 2, 'stride': 2}\n",
        "\n",
        "    scores = None\n",
        "    ############################################################################\n",
        "    # TODO: Implement the forward pass for the three-layer convolutional net,  #\n",
        "    # computing the class scores for X and storing them in the scores          #\n",
        "    # variable.                                                                #\n",
        "    #                                                                          #\n",
        "    # Remember you can use the functions defined in your implementation above. #\n",
        "    ############################################################################\n",
        "    # Replace \"pass\" statement with your code\n",
        "    pass\n",
        "    ############################################################################\n",
        "    #                             END OF YOUR CODE                             #\n",
        "    ############################################################################\n",
        "\n",
        "    if y is None:\n",
        "      return scores\n",
        "\n",
        "    loss, grads = 0.0, {}\n",
        "    ############################################################################\n",
        "    # TODO: Implement the backward pass for the three-layer convolutional net, #\n",
        "    # storing the loss and gradients in the loss and grads variables. Compute  #\n",
        "    # data loss using softmax, and make sure that grads[k] holds the gradients #\n",
        "    # for self.params[k]. Don't forget to add L2 regularization!               #\n",
        "    #                                                                          #\n",
        "    # NOTE: To ensure that your implementation matches ours and you pass the   #\n",
        "    # automated tests, make sure that your L2 regularization does not include  #\n",
        "    # a factor of 0.5                                                          #\n",
        "    ############################################################################\n",
        "    # Replace \"pass\" statement with your code\n",
        "    pass\n",
        "    ############################################################################\n",
        "    #                             END OF YOUR CODE                             #\n",
        "    ############################################################################\n",
        "\n",
        "    return loss, grads"
      ]
    },
    {
      "cell_type": "markdown",
      "metadata": {
        "id": "e_MfqAQXw73Q"
      },
      "source": [
        "## Sanity check loss\n",
        "After you build a new network, one of the first things you should do is sanity check the loss. When we use the softmax loss, we expect the loss for random weights (and no regularization) to be about `log(C)` for `C` classes. When we add regularization the loss should go up slightly."
      ]
    },
    {
      "cell_type": "code",
      "execution_count": null,
      "metadata": {
        "id": "h-XEWaw2w73R"
      },
      "outputs": [],
      "source": [
        "fix_random_seed(0)\n",
        "model = ThreeLayerConvNet(**to_double_cuda)\n",
        "\n",
        "N = 50\n",
        "X = torch.randn(N, 3, 32, 32, **to_double_cuda)\n",
        "y = torch.randint(10, size=(N,), **to_long_cuda)\n",
        "\n",
        "loss, grads = model.loss(X, y)\n",
        "print('Initial loss (no regularization): ', loss.item())\n",
        "\n",
        "model.reg = 0.5\n",
        "loss, grads = model.loss(X, y)\n",
        "print('Initial loss (with regularization): ', loss.item())"
      ]
    },
    {
      "cell_type": "markdown",
      "metadata": {
        "id": "QEIViSCjw73U"
      },
      "source": [
        "## Gradient check\n",
        "After the loss looks reasonable, use numeric gradient checking to make sure that your backward pass is correct. When you use numeric gradient checking you should use a small amount of artificial data and a small number of neurons at each layer.\n",
        "\n",
        "You should see errors less than `1e-5`."
      ]
    },
    {
      "cell_type": "code",
      "execution_count": null,
      "metadata": {
        "id": "xPrOgIsJw73V"
      },
      "outputs": [],
      "source": [
        "num_inputs = 2\n",
        "input_dims = (3, 16, 16)\n",
        "reg = 0.0\n",
        "num_classes = 10\n",
        "fix_random_seed(0)\n",
        "X = torch.randn(num_inputs, *input_dims, **to_double_cuda)\n",
        "y = torch.randint(num_classes, size=(num_inputs,), **to_long_cuda)\n",
        "\n",
        "model = ThreeLayerConvNet(num_filters=3, filter_size=3,\n",
        "                          input_dims=input_dims, hidden_dim=7,\n",
        "                          weight_scale=5e-2, **to_double_cuda)\n",
        "loss, grads = model.loss(X, y)\n",
        "\n",
        "for param_name in sorted(grads):\n",
        "    f = lambda _: model.loss(X, y)[0]\n",
        "    param_grad_num = compute_numeric_gradient(f, model.params[param_name])\n",
        "    print('%s max relative error: %e' % (param_name, rel_error(param_grad_num, grads[param_name])))"
      ]
    },
    {
      "cell_type": "markdown",
      "metadata": {
        "id": "dUPRjnzww73Y"
      },
      "source": [
        "## Overfit small data\n",
        "A nice trick is to train your model with just a few training samples. You should be able to overfit small datasets, which will result in very high training accuracy and comparatively low validation accuracy."
      ]
    },
    {
      "cell_type": "code",
      "execution_count": null,
      "metadata": {
        "id": "pwwQ0XB7w73Z"
      },
      "outputs": [],
      "source": [
        "fix_random_seed(0)\n",
        "\n",
        "num_train = 100\n",
        "small_data = {\n",
        "  'X_train': data_dict['X_train'][:num_train],\n",
        "  'y_train': data_dict['y_train'][:num_train],\n",
        "  'X_val': data_dict['X_val'],\n",
        "  'y_val': data_dict['y_val'],\n",
        "}\n",
        "\n",
        "model = ThreeLayerConvNet(weight_scale=1e-3, **to_float_cuda)\n",
        "\n",
        "solver = Solver(model, small_data,\n",
        "                num_epochs=30, batch_size=50,\n",
        "                update_rule=adam,\n",
        "                optim_config={\n",
        "                  'learning_rate': 2e-3,\n",
        "                },\n",
        "                verbose=True, print_every=1,\n",
        "                device='cuda')\n",
        "solver.train()"
      ]
    },
    {
      "cell_type": "markdown",
      "metadata": {
        "id": "KTDOqqdLw73d"
      },
      "source": [
        "Plotting the loss, training accuracy, and validation accuracy should show clear overfitting:"
      ]
    },
    {
      "cell_type": "code",
      "execution_count": null,
      "metadata": {
        "id": "fypbffqsw73f"
      },
      "outputs": [],
      "source": [
        "plt.title('Training losses')\n",
        "plt.plot(solver.loss_history, 'o')\n",
        "plt.xlabel('iteration')\n",
        "plt.ylabel('loss')\n",
        "plt.gcf().set_size_inches(9, 4)\n",
        "plt.show()\n",
        "\n",
        "plt.title('Train and Val accuracies')\n",
        "plt.plot(solver.train_acc_history, '-o')\n",
        "plt.plot(solver.val_acc_history, '-o')\n",
        "plt.legend(['train', 'val'], loc='upper left')\n",
        "plt.xlabel('epoch')\n",
        "plt.ylabel('accuracy')\n",
        "plt.gcf().set_size_inches(9, 4)\n",
        "plt.show()"
      ]
    },
    {
      "cell_type": "markdown",
      "metadata": {
        "id": "W2vnSbfjw73i"
      },
      "source": [
        "## Train the net\n",
        "By training the three-layer convolutional network for one epoch, you should achieve greater than 50% accuracy on the training set:"
      ]
    },
    {
      "cell_type": "code",
      "execution_count": null,
      "metadata": {
        "id": "nfArKG-Gw73j"
      },
      "outputs": [],
      "source": [
        "fix_random_seed(0)\n",
        "\n",
        "model = ThreeLayerConvNet(weight_scale=0.001, hidden_dim=500, reg=0.001, dtype=torch.float, device='cuda')\n",
        "\n",
        "solver = Solver(model, data_dict,\n",
        "                num_epochs=1, batch_size=64,\n",
        "                update_rule=adam,\n",
        "                optim_config={\n",
        "                  'learning_rate': 2e-3,\n",
        "                },\n",
        "                verbose=True, print_every=50, device='cuda')\n",
        "solver.train()"
      ]
    },
    {
      "cell_type": "markdown",
      "metadata": {
        "id": "vIYQ0nm2w73n"
      },
      "source": [
        "## Visualize Filters\n",
        "You can visualize the first-layer convolutional filters from the trained network by running the following:"
      ]
    },
    {
      "cell_type": "code",
      "execution_count": null,
      "metadata": {
        "id": "n3FLipRY4NUv"
      },
      "outputs": [],
      "source": [
        "from torchvision.utils import make_grid\n",
        "nrow = math.ceil(math.sqrt(model.params['W1'].shape[0]))\n",
        "grid = make_grid(model.params['W1'], nrow=nrow, padding=1, normalize=True, scale_each=True)\n",
        "plt.imshow(grid.to(device='cpu').permute(1, 2, 0))\n",
        "plt.axis('off')\n",
        "plt.gcf().set_size_inches(5, 5)\n",
        "plt.show()"
      ]
    },
    {
      "cell_type": "markdown",
      "metadata": {
        "id": "JleotK9yDcyv"
      },
      "source": [
        "# Deep convolutional network\n",
        "Next you will implement a deep convolutional network with an arbitrary number of conv layers in VGGNet style.\n",
        "\n",
        "Read through the `DeepConvNet` class.\n",
        "\n",
        "Implement the initialization, the forward pass, and the backward pass. For the moment don't worry about implementing batch normalization; we will add those features soon. Again, we STRONGLY recommend you to use the fast/sandwich layers (already imported for you) in your implementation."
      ]
    },
    {
      "cell_type": "code",
      "execution_count": null,
      "metadata": {
        "id": "Ah-_nwx2BSxl"
      },
      "outputs": [],
      "source": [
        "class DeepConvNet(object):\n",
        "  \"\"\"\n",
        "  A convolutional neural network with an arbitrary number of convolutional\n",
        "  layers in VGG-Net style. All convolution layers will use kernel size 3 and \n",
        "  padding 1 to preserve the feature map size, and all pooling layers will be\n",
        "  max pooling layers with 2x2 receptive fields and a stride of 2 to halve the\n",
        "  size of the feature map.\n",
        "\n",
        "  The network will have the following architecture:\n",
        "  \n",
        "  {conv - [batchnorm?] - relu - [pool?]} x (L - 1) - linear\n",
        "\n",
        "  Each {...} structure is a \"macro layer\" consisting of a convolution layer,\n",
        "  an optional batch normalization layer, a ReLU nonlinearity, and an optional\n",
        "  pooling layer. After L-1 such macro layers, a single fully-connected layer\n",
        "  is used to predict the class scores.\n",
        "\n",
        "  The network operates on minibatches of data that have shape (N, C, H, W)\n",
        "  consisting of N images, each with height H and width W and with C input\n",
        "  channels.\n",
        "  \"\"\"\n",
        "  def __init__(self, input_dims=(3, 32, 32),\n",
        "               num_filters=[8, 8, 8, 8, 8],\n",
        "               max_pools=[0, 1, 2, 3, 4],\n",
        "               batchnorm=False,\n",
        "               num_classes=10, weight_scale=1e-3, reg=0.0,\n",
        "               weight_initializer=None,\n",
        "               dtype=torch.float, device='cpu'):\n",
        "    \"\"\"\n",
        "    Initialize a new network.\n",
        "\n",
        "    Inputs:\n",
        "    - input_dims: Tuple (C, H, W) giving size of input data\n",
        "    - num_filters: List of length (L - 1) giving the number of convolutional\n",
        "      filters to use in each macro layer.\n",
        "    - max_pools: List of integers giving the indices of the macro layers that\n",
        "      should have max pooling (zero-indexed).\n",
        "    - batchnorm: Whether to include batch normalization in each macro layer\n",
        "    - num_classes: Number of scores to produce from the final linear layer.\n",
        "    - weight_scale: Scalar giving standard deviation for random initialization\n",
        "      of weights, or the string \"kaiming\" to use Kaiming initialization instead\n",
        "    - reg: Scalar giving L2 regularization strength. L2 regularization should\n",
        "      only be applied to convolutional and fully-connected weight matrices;\n",
        "      it should not be applied to biases or to batchnorm scale and shifts.\n",
        "    - dtype: A torch data type object; all computations will be performed using\n",
        "      this datatype. float is faster but less accurate, so you should use\n",
        "      double for numeric gradient checking.\n",
        "    - device: device to use for computation. 'cpu' or 'cuda'    \n",
        "    \"\"\"\n",
        "    self.params = {}\n",
        "    self.num_layers = len(num_filters)+1\n",
        "    self.max_pools = max_pools\n",
        "    self.batchnorm = batchnorm\n",
        "    self.reg = reg\n",
        "    self.dtype = dtype\n",
        "  \n",
        "    if device == 'cuda':\n",
        "      device = 'cuda:0'\n",
        "    \n",
        "    ############################################################################\n",
        "    # TODO: Initialize the parameters for the DeepConvNet. All weights,        #\n",
        "    # biases, and batchnorm scale and shift parameters should be stored in the #\n",
        "    # dictionary self.params.                                                  #\n",
        "    #                                                                          #\n",
        "    # Weights for conv and fully-connected layers should be initialized        #\n",
        "    # according to weight_scale. Biases should be initialized to zero.         #\n",
        "    # Batchnorm scale (gamma) and shift (beta) parameters should be initilized #\n",
        "    # to ones and zeros respectively.                                          #           \n",
        "    ############################################################################\n",
        "    # Replace \"pass\" statement with your code\n",
        "    pass\n",
        "    ############################################################################\n",
        "    #                             END OF YOUR CODE                             #\n",
        "    ############################################################################\n",
        "\n",
        "    # With batch normalization we need to keep track of running means and\n",
        "    # variances, so we need to pass a special bn_param object to each batch\n",
        "    # normalization layer. You should pass self.bn_params[0] to the forward pass\n",
        "    # of the first batch normalization layer, self.bn_params[1] to the forward\n",
        "    # pass of the second batch normalization layer, etc.\n",
        "    self.bn_params = []\n",
        "    if self.batchnorm:\n",
        "      self.bn_params = [{'mode': 'train'} for _ in range(len(num_filters))]\n",
        "      \n",
        "    # Check that we got the right number of parameters\n",
        "    if not self.batchnorm:\n",
        "      params_per_macro_layer = 2  # weight and bias\n",
        "    else:\n",
        "      params_per_macro_layer = 4  # weight, bias, scale, shift\n",
        "    num_params = params_per_macro_layer * len(num_filters) + 2\n",
        "    msg = 'self.params has the wrong number of elements. Got %d; expected %d'\n",
        "    msg = msg % (len(self.params), num_params)\n",
        "    assert len(self.params) == num_params, msg\n",
        "\n",
        "    # Check that all parameters have the correct device and dtype:\n",
        "    for k, param in self.params.items():\n",
        "      msg = 'param \"%s\" has device %r; should be %r' % (k, param.device, device)\n",
        "      assert param.device == torch.device(device), msg\n",
        "      msg = 'param \"%s\" has dtype %r; should be %r' % (k, param.dtype, dtype)\n",
        "      assert param.dtype == dtype, msg\n",
        "\n",
        "  def loss(self, X, y=None):\n",
        "    \"\"\"\n",
        "    Evaluate loss and gradient for the deep convolutional network.\n",
        "    Input / output: Same API as ThreeLayerConvNet.\n",
        "    \"\"\"\n",
        "    X = X.to(self.dtype)\n",
        "    mode = 'test' if y is None else 'train'\n",
        "\n",
        "    # Set train/test mode for batchnorm params since they\n",
        "    # behave differently during training and testing.\n",
        "    if self.batchnorm:\n",
        "      for bn_param in self.bn_params:\n",
        "        bn_param['mode'] = mode\n",
        "    scores = None\n",
        "\n",
        "    # pass conv_param to the forward pass for the convolutional layer\n",
        "    # Padding and stride chosen to preserve the input spatial size\n",
        "    filter_size = 3\n",
        "    conv_param = {'stride': 1, 'pad': (filter_size - 1) // 2}\n",
        "\n",
        "    # pass pool_param to the forward pass for the max-pooling layer\n",
        "    pool_param = {'pool_height': 2, 'pool_width': 2, 'stride': 2}\n",
        "\n",
        "    scores = None\n",
        "    ############################################################################\n",
        "    # TODO: Implement the forward pass for the DeepConvNet, computing the      #\n",
        "    # class scores for X and storing them in the scores variable.              #\n",
        "    #                                                                          #\n",
        "    # You should use the fast versions of convolution and max pooling layers,  #\n",
        "    # or the convolutional sandwich layers, to simplify your implementation.   #\n",
        "    ############################################################################\n",
        "    # Replace \"pass\" statement with your code\n",
        "    pass\n",
        "    ############################################################################\n",
        "    #                             END OF YOUR CODE                             #\n",
        "    ############################################################################\n",
        "\n",
        "    if y is None:\n",
        "      return scores\n",
        "\n",
        "    loss, grads = 0, {}\n",
        "    ############################################################################\n",
        "    # TODO: Implement the backward pass for the DeepConvNet, storing the loss  #\n",
        "    # and gradients in the loss and grads variables. Compute data loss using   #\n",
        "    # softmax, and make sure that grads[k] holds the gradients for             #\n",
        "    # self.params[k]. Don't forget to add L2 regularization!                   #\n",
        "    #                                                                          #\n",
        "    # NOTE: To ensure that your implementation matches ours and you pass the   #\n",
        "    # automated tests, make sure that your L2 regularization does not include  #\n",
        "    # a factor of 0.5                                                          #\n",
        "    ############################################################################\n",
        "    # Replace \"pass\" statement with your code\n",
        "    pass\n",
        "    ############################################################################\n",
        "    #                             END OF YOUR CODE                             #\n",
        "    ############################################################################\n",
        "\n",
        "    return loss, grads"
      ]
    },
    {
      "cell_type": "markdown",
      "metadata": {
        "id": "0AC0R6dv059E"
      },
      "source": [
        "## Sanity check loss\n",
        "After you build a new network, one of the first things you should do is sanity check the loss. When we use the softmax loss, we expect the loss for random weights (and no regularization) to be about `log(C)` for `C` classes. When we add regularization the loss should go up slightly."
      ]
    },
    {
      "cell_type": "code",
      "execution_count": null,
      "metadata": {
        "id": "MPfK4L5P059L"
      },
      "outputs": [],
      "source": [
        "fix_random_seed(0)\n",
        "input_dims = (3, 32, 32)\n",
        "model = DeepConvNet(num_filters=[8, 64], max_pools=[0, 1], **to_double_cuda)\n",
        "\n",
        "N = 50\n",
        "X = torch.randn(N, *input_dims, **to_double_cuda)\n",
        "y = torch.randint(10, size=(N,), **to_long_cuda)\n",
        "\n",
        "loss, grads = model.loss(X, y)\n",
        "print('Initial loss (no regularization): ', loss.item())\n",
        "\n",
        "model.reg = 1.\n",
        "loss, grads = model.loss(X, y)\n",
        "print('Initial loss (with regularization): ', loss.item())"
      ]
    },
    {
      "cell_type": "markdown",
      "metadata": {
        "id": "8BfRDkEj1TX8"
      },
      "source": [
        "## Gradient check\n",
        "After the loss looks reasonable, use numeric gradient checking to make sure that your backward pass is correct. When you use numeric gradient checking you should use a small amount of artifical data and a small number of neurons at each layer.\n",
        "\n",
        "For the check with reg=0, you should see relative errors less than `1e-5`. For the check with reg=3.14, you should see relative errors less than `1e-4`"
      ]
    },
    {
      "cell_type": "code",
      "execution_count": null,
      "metadata": {
        "id": "qiPiP1X11TYA"
      },
      "outputs": [],
      "source": [
        "num_inputs = 2\n",
        "input_dims = (3, 8, 8)\n",
        "num_classes = 10\n",
        "fix_random_seed(0)\n",
        "X = torch.randn(num_inputs, *input_dims, **to_double_cuda)\n",
        "y = torch.randint(num_classes, size=(num_inputs,), **to_long_cuda)\n",
        "\n",
        "for reg in [0, 3.14]:\n",
        "  print('Running check with reg = ', reg)\n",
        "  model = DeepConvNet(input_dims=input_dims, num_classes=num_classes,\n",
        "                      num_filters=[8, 8, 8],\n",
        "                      max_pools=[0, 2],\n",
        "                      reg=reg,\n",
        "                      weight_scale=5e-2, **to_double_cuda)\n",
        "\n",
        "  loss, grads = model.loss(X, y)\n",
        "  # The relative errors should be up to the order of e-6\n",
        "  for name in sorted(grads):\n",
        "    f = lambda _: model.loss(X, y)[0]\n",
        "    grad_num = compute_numeric_gradient(f, model.params[name])\n",
        "    print('%s max relative error: %e' % (name, rel_error(grad_num, grads[name])))\n",
        "  if reg == 0: print()"
      ]
    },
    {
      "cell_type": "markdown",
      "metadata": {
        "id": "1_njNfEh3cxs"
      },
      "source": [
        "## Overfit small data\n",
        "As another sanity check, make sure you can overfit a small dataset of 50 images. In the following cell, tweak the **learning rate** and **weight initialization scale** to overfit and achieve 100% training accuracy within 30 epochs."
      ]
    },
    {
      "cell_type": "code",
      "execution_count": null,
      "metadata": {
        "id": "2NccCDJ3e1DR"
      },
      "outputs": [],
      "source": [
        "# TODO: Use a DeepConvNet to overfit 50 training examples by \n",
        "# tweaking just the learning rate and initialization scale.\n",
        "fix_random_seed(0)\n",
        "\n",
        "num_train = 50\n",
        "small_data = {\n",
        "  'X_train': data_dict['X_train'][:num_train],\n",
        "  'y_train': data_dict['y_train'][:num_train],\n",
        "  'X_val': data_dict['X_val'],\n",
        "  'y_val': data_dict['y_val'],\n",
        "}\n",
        "input_dims = small_data['X_train'].shape[1:]\n",
        "\n",
        "weight_scale = 2e-3   # Experiment with this!\n",
        "learning_rate = 1e-5  # Experiment with this!\n",
        "############################################################################\n",
        "# TODO: Change weight_scale and learning_rate so your model achieves 100%  #\n",
        "# training accuracy within 30 epochs.                                      #\n",
        "############################################################################\n",
        "# Replace \"pass\" statement with your code\n",
        "pass\n",
        "############################################################################\n",
        "#                             END OF YOUR CODE                             #\n",
        "############################################################################\n",
        "model = DeepConvNet(input_dims=input_dims, num_classes=10,\n",
        "                    num_filters=[8, 16, 32, 64],\n",
        "                    max_pools=[0, 1, 2, 3],\n",
        "                    reg=1e-5, weight_scale=weight_scale, **to_float_cuda)\n",
        "solver = Solver(model, small_data,\n",
        "                print_every=10, num_epochs=30, batch_size=10,\n",
        "                update_rule=adam,\n",
        "                optim_config={\n",
        "                  'learning_rate': learning_rate,\n",
        "                },\n",
        "                device='cuda',\n",
        "         )\n",
        "solver.train()\n",
        "\n",
        "plt.plot(solver.loss_history, 'o')\n",
        "plt.title('Training loss history')\n",
        "plt.xlabel('Iteration')\n",
        "plt.ylabel('Training loss')\n",
        "plt.show()"
      ]
    },
    {
      "cell_type": "markdown",
      "metadata": {
        "id": "FI3LznMXRnad"
      },
      "source": [
        "# Kaiming initialization\n",
        "So far, you manually tuned the weight scale and for weight initialization.\n",
        "However, this is inefficient when it comes to training deep neural networks; practically, as your weight matrix is larger, the weight scale should be small.\n",
        "Below you will implement [Kaiming initialization](http://arxiv-web3.library.cornell.edu/abs/1502.01852). For more details, refer to [cs231n note](http://cs231n.github.io/neural-networks-2/#init) and [PyTorch documentation](https://pytorch.org/docs/stable/nn.init.html#torch.nn.init.kaiming_normal_)."
      ]
    },
    {
      "cell_type": "code",
      "execution_count": null,
      "metadata": {
        "id": "y90Z6I18AdjW"
      },
      "outputs": [],
      "source": [
        "def kaiming_initializer(Din, Dout, K=None, relu=True, device='cpu',\n",
        "                        dtype=torch.float32):\n",
        "  \"\"\"\n",
        "  Implement Kaiming initialization for linear and convolution layers.\n",
        "  \n",
        "  Inputs:\n",
        "  - Din, Dout: Integers giving the number of input and output dimensions for\n",
        "    this layer\n",
        "  - K: If K is None, then initialize weights for a linear layer with Din input\n",
        "    dimensions and Dout output dimensions. Otherwise if K is a nonnegative\n",
        "    integer then initialize the weights for a convolution layer with Din input\n",
        "    channels, Dout output channels, and a kernel size of KxK.\n",
        "  - relu: If ReLU=True, then initialize weights with a gain of 2 to account for\n",
        "    a ReLU nonlinearity (Kaiming initializaiton); otherwise initialize weights\n",
        "    with a gain of 1 (Xavier initialization).\n",
        "  - device, dtype: The device and datatype for the output tensor.\n",
        "\n",
        "  Returns:\n",
        "  - weight: A torch Tensor giving initialized weights for this layer. For a\n",
        "    linear layer it should have shape (Din, Dout); for a convolution layer it\n",
        "    should have shape (Dout, Din, K, K).\n",
        "  \"\"\"\n",
        "  gain = 2. if relu else 1.\n",
        "  weight = None\n",
        "  if K is None:\n",
        "    ###########################################################################\n",
        "    # TODO: Implement Kaiming initialization for linear layer.                #\n",
        "    # The weight scale is sqrt(gain / fan_in),                                #\n",
        "    # where gain is 2 if ReLU is followed by the layer, or 1 if not,          #\n",
        "    # and fan_in = num_in_channels (= Din).                                   #\n",
        "    # The output should be a tensor in the designated size, dtype, and device.#\n",
        "    ###########################################################################\n",
        "    # Replace \"pass\" statement with your code\n",
        "    pass\n",
        "    ###########################################################################\n",
        "    #                            END OF YOUR CODE                             #\n",
        "    ###########################################################################\n",
        "  else:\n",
        "    ###########################################################################\n",
        "    # TODO: Implement Kaiming initialization for convolutional layer.         #\n",
        "    # The weight scale is sqrt(gain / fan_in),                                #\n",
        "    # where gain is 2 if ReLU is followed by the layer, or 1 if not,          #\n",
        "    # and fan_in = num_in_channels (= Din) * K * K                            #\n",
        "    # The output should be a tensor in the designated size, dtype, and device.#\n",
        "    ###########################################################################\n",
        "    # Replace \"pass\" statement with your code\n",
        "    pass\n",
        "    ###########################################################################\n",
        "    #                            END OF YOUR CODE                             #\n",
        "    ###########################################################################\n",
        "  return weight    "
      ]
    },
    {
      "cell_type": "markdown",
      "metadata": {
        "id": "XkZL_lsufSVZ"
      },
      "source": [
        "# Convolutional nets with Kaiming initialization\n",
        "Now that you have a working implementation for Kaiming initialization, go back to your [`DeepConvnet`](#scrollTo=Ah-_nwx2BSxl). Modify your implementation to add Kaiming initialization.\n",
        "\n",
        "Concretely, when the `weight_scale` is set to `'kaiming'` in the constructor, you should initialize weights of convolutional and linear layers using `kaiming_initializer`. Once you are done, run the following to see the effect of kaiming initialization in deep CNNs.\n",
        "\n",
        "In this experiment, we train a 31-layer network with four different weight initialization schemes. Among them, only the Kaiming initialization method should achieve a non-random accuracy after one epoch of training.\n",
        "\n",
        "You may see `nan` loss when `weight_scale` is large, this shows a catastrophe of inappropriate weight initialization."
      ]
    },
    {
      "cell_type": "code",
      "execution_count": null,
      "metadata": {
        "id": "sQJKcH60jfTm"
      },
      "outputs": [],
      "source": [
        "fix_random_seed(0)\n",
        "\n",
        "# Try training a deep convolutional net with different weight initialization methods\n",
        "num_train = 10000\n",
        "small_data = {\n",
        "  'X_train': data_dict['X_train'][:num_train],\n",
        "  'y_train': data_dict['y_train'][:num_train],\n",
        "  'X_val': data_dict['X_val'],\n",
        "  'y_val': data_dict['y_val'],\n",
        "}\n",
        "input_dims = data_dict['X_train'].shape[1:]\n",
        "\n",
        "weight_scales = ['kaiming', 1e-1, 1e-2, 1e-3]\n",
        "\n",
        "solvers = []\n",
        "for weight_scale in weight_scales:\n",
        "  print('Solver with weight scale: ', weight_scale)\n",
        "  model = DeepConvNet(input_dims=input_dims, num_classes=10,\n",
        "                      num_filters=([8] * 10) + ([32] * 10) + ([128] * 10),\n",
        "                      max_pools=[9, 19],\n",
        "                      weight_scale=weight_scale,\n",
        "                      reg=1e-5, **to_float_cuda)\n",
        "\n",
        "  solver = Solver(model, small_data,\n",
        "                  num_epochs=1, batch_size=128,\n",
        "                  update_rule=sgd_momentum,\n",
        "                  optim_config={\n",
        "                    'learning_rate': 2e-3,\n",
        "                  },\n",
        "                  print_every=20, device='cuda')\n",
        "  solver.train()\n",
        "  solvers.append(solver)"
      ]
    },
    {
      "cell_type": "code",
      "execution_count": null,
      "metadata": {
        "id": "6WDM0E5lHBmD"
      },
      "outputs": [],
      "source": [
        "def plot_training_history_init(title, xlabel, solvers, labels, plot_fn, marker='-o'):\n",
        "  plt.title(title)\n",
        "  plt.xlabel(xlabel)\n",
        "  for solver, label in zip(solvers, labels):    \n",
        "    data = plot_fn(solver)\n",
        "    label = 'weight_scale=' + str(label)\n",
        "    plt.plot(data, marker, label=label)\n",
        "  plt.legend(loc='lower center', ncol=len(solvers))"
      ]
    },
    {
      "cell_type": "code",
      "execution_count": null,
      "metadata": {
        "id": "uG-dQDRCH_XD"
      },
      "outputs": [],
      "source": [
        "plt.subplot(3, 1, 1)\n",
        "plot_training_history_init('Training loss','Iteration', solvers, weight_scales,\n",
        "                            lambda x: x.loss_history, marker='o')\n",
        "plt.subplot(3, 1, 2)\n",
        "plot_training_history_init('Training accuracy','Epoch', solvers, weight_scales,\n",
        "                           lambda x: x.train_acc_history)\n",
        "plt.subplot(3, 1, 3)\n",
        "plot_training_history_init('Validation accuracy','Epoch', solvers, weight_scales,\n",
        "                           lambda x: x.val_acc_history)\n",
        "plt.gcf().set_size_inches(15, 15)\n",
        "plt.show()"
      ]
    },
    {
      "cell_type": "markdown",
      "metadata": {
        "id": "ogx_-gJ1e1EO"
      },
      "source": [
        "# Train a good model!\n",
        "Train the best convolutional model that you can on CIFAR-10, storing your best model in the `best_model` variable. We require you to get at least 72% accuracy on the validation set using a convolutional net, within 60 seconds of training.\n",
        "\n",
        "You might find it useful to use batch normalization in your model. However, since we do not ask you to implement it CUDA-friendly, it might slow down training.\n",
        "\n",
        "Hint: Your model does not have to be too deep.\n",
        "\n",
        "Hint 2: We used `batch_size = 128` for training a model with 76% validation accuracy. You don't have to follow this, but it would save your time for hyperparameter search."
      ]
    },
    {
      "cell_type": "code",
      "execution_count": null,
      "metadata": {
        "id": "UPRQvUDJe1EQ"
      },
      "outputs": [],
      "source": [
        "input_dims = data_dict['X_train'].shape[1:]\n",
        "torch.backends.cudnn.deterministic = True\n",
        "torch.backends.cudnn.benchmark = True\n",
        "\n",
        "model = None\n",
        "solver = None\n",
        "################################################################################\n",
        "# TODO: Train the best DeepConvNet that you can on CIFAR-10 within 60 seconds. #\n",
        "################################################################################\n",
        "# Replace \"pass\" statement with your code\n",
        "pass\n",
        "################################################################################\n",
        "#                              END OF YOUR CODE                                #\n",
        "################################################################################\n",
        "solver.train(time_limit=60)\n",
        "\n",
        "torch.backends.cudnn.benchmark = False"
      ]
    },
    {
      "cell_type": "markdown",
      "metadata": {
        "id": "uZWeaN-6e1ET"
      },
      "source": [
        "# Test your model!\n",
        "Run your best model on the validation and test sets. You should achieve above 72% accuracy on the validation set and 70% accuracy on the test set.\n",
        "\n",
        "(Our best model gets 76% validation accuracy and 75% test accuracy -- can you beat ours?)\n"
      ]
    },
    {
      "cell_type": "code",
      "execution_count": null,
      "metadata": {
        "id": "xdVs_GEse1EU"
      },
      "outputs": [],
      "source": [
        "print('Validation set accuracy: ', solver.check_accuracy(data_dict['X_val'], data_dict['y_val']))\n",
        "print('Test set accuracy: ', solver.check_accuracy(data_dict['X_test'], data_dict['y_test']))"
      ]
    },
    {
      "cell_type": "markdown",
      "metadata": {
        "id": "KqsqNYOVwypM",
        "tags": [
          "pdf-title"
        ]
      },
      "source": [
        "# Batch Normalization\n",
        "One way to make deep networks easier to train is to use more sophisticated optimization procedures such as SGD+momentum, RMSProp, or Adam. Another strategy is to change the architecture of the network to make it easier to train. \n",
        "One idea along these lines is batch normalization which was proposed by [1] in 2015.\n",
        "\n",
        "The idea is relatively straightforward. Machine learning methods tend to work better when their input data consists of uncorrelated features with zero mean and unit variance. When training a neural network, we can preprocess the data before feeding it to the network to explicitly decorrelate its features; this will ensure that the first layer of the network sees data that follows a nice distribution. However, even if we preprocess the input data, the activations at deeper layers of the network will likely no longer be decorrelated and will no longer have zero mean or unit variance since they are output from earlier layers in the network. Even worse, during the training process the distribution of features at each layer of the network will shift as the weights of each layer are updated.\n",
        "\n",
        "The authors of [1] hypothesize that the shifting distribution of features inside deep neural networks may make training deep networks more difficult. To overcome this problem, [1] proposes to insert batch normalization layers into the network. At training time, a batch normalization layer uses a minibatch of data to estimate the mean and standard deviation of each feature. These estimated means and standard deviations are then used to center and normalize the features of the minibatch. A running average of these means and standard deviations is kept during training, and at test time these running averages are used to center and normalize features.\n",
        "\n",
        "It is possible that this normalization strategy could reduce the representational power of the network, since it may sometimes be optimal for certain layers to have features that are not zero-mean or unit variance. To this end, the batch normalization layer includes learnable shift and scale parameters for each feature dimension.\n",
        "\n",
        "[1] [Sergey Ioffe and Christian Szegedy, \"Batch Normalization: Accelerating Deep Network Training by Reducing\n",
        "Internal Covariate Shift\", ICML 2015.](https://arxiv.org/abs/1502.03167)"
      ]
    },
    {
      "cell_type": "code",
      "execution_count": null,
      "metadata": {
        "id": "EbSBc8mt4so0"
      },
      "outputs": [],
      "source": [
        "class BatchNorm(object):\n",
        "\n",
        "  @staticmethod\n",
        "  def forward(x, gamma, beta, bn_param):\n",
        "    raise NotImplementedError\n",
        "\n",
        "  @staticmethod\n",
        "  def backward(dout, cache):\n",
        "    raise NotImplementedError\n",
        "\n",
        "  @staticmethod\n",
        "  def backward_alt(dout, cache):\n",
        "    raise NotImplementedError"
      ]
    },
    {
      "cell_type": "markdown",
      "metadata": {
        "id": "s0ELNJIlwypX"
      },
      "source": [
        "## Batch normalization: forward\n",
        "Implement the batch normalization forward pass in the function `BatchNorm.forward`. Once you have done so, run the following to test your implementation.\n",
        "\n",
        "Referencing the paper linked to above in [1] may be helpful!"
      ]
    },
    {
      "cell_type": "code",
      "execution_count": null,
      "metadata": {
        "id": "LhULDxfU43f1"
      },
      "outputs": [],
      "source": [
        "def batchnorm_forward(x, gamma, beta, bn_param):\n",
        "  \"\"\"\n",
        "  Forward pass for batch normalization.\n",
        "\n",
        "  During training the sample mean and (uncorrected) sample variance are\n",
        "  computed from minibatch statistics and used to normalize the incoming data.\n",
        "  During training we also keep an exponentially decaying running mean of the\n",
        "  mean and variance of each feature, and these averages are used to normalize\n",
        "  data at test-time.\n",
        "\n",
        "  At each timestep we update the running averages for mean and variance using\n",
        "  an exponential decay based on the momentum parameter:\n",
        "\n",
        "  running_mean = momentum * running_mean + (1 - momentum) * sample_mean\n",
        "  running_var = momentum * running_var + (1 - momentum) * sample_var\n",
        "\n",
        "  Note that the batch normalization paper suggests a different test-time\n",
        "  behavior: they compute sample mean and variance for each feature using a\n",
        "  large number of training images rather than using a running average. For\n",
        "  this implementation we have chosen to use running averages instead since\n",
        "  they do not require an additional estimation step; the PyTorch\n",
        "  implementation of batch normalization also uses running averages.\n",
        "\n",
        "  Input:\n",
        "  - x: Data of shape (N, D)\n",
        "  - gamma: Scale parameter of shape (D,)\n",
        "  - beta: Shift paremeter of shape (D,)\n",
        "  - bn_param: Dictionary with the following keys:\n",
        "    - mode: 'train' or 'test'; required\n",
        "    - eps: Constant for numeric stability\n",
        "    - momentum: Constant for running mean / variance.\n",
        "    - running_mean: Array of shape (D,) giving running mean of features\n",
        "    - running_var Array of shape (D,) giving running variance of features\n",
        "\n",
        "  Returns a tuple of:\n",
        "  - out: of shape (N, D)\n",
        "  - cache: A tuple of values needed in the backward pass\n",
        "  \"\"\"\n",
        "  mode = bn_param['mode']\n",
        "  eps = bn_param.get('eps', 1e-5)\n",
        "  momentum = bn_param.get('momentum', 0.9)\n",
        "\n",
        "  N, D = x.shape\n",
        "  running_mean = bn_param.get('running_mean', torch.zeros(D, dtype=x.dtype, device=x.device))\n",
        "  running_var = bn_param.get('running_var', torch.zeros(D, dtype=x.dtype, device=x.device))\n",
        "\n",
        "  out, cache = None, None\n",
        "  if mode == 'train':\n",
        "    #######################################################################\n",
        "    # TODO: Implement the training-time forward pass for batch norm.      #\n",
        "    # Use minibatch statistics to compute the mean and variance, use      #\n",
        "    # these statistics to normalize the incoming data, and scale and      #\n",
        "    # shift the normalized data using gamma and beta.                     #\n",
        "    #                                                                     #\n",
        "    # You should store the output in the variable out. Any intermediates  #\n",
        "    # that you need for the backward pass should be stored in the cache   #\n",
        "    # variable.                                                           #\n",
        "    #                                                                     #\n",
        "    # You should also use your computed sample mean and variance together #\n",
        "    # with the momentum variable to update the running mean and running   #\n",
        "    # variance, storing your result in the running_mean and running_var   #\n",
        "    # variables.                                                          #\n",
        "    #                                                                     #\n",
        "    # Note that though you should be keeping track of the running         #\n",
        "    # variance, you should normalize the data based on the standard       #\n",
        "    # deviation (square root of variance) instead!                        # \n",
        "    # Referencing the original paper (https://arxiv.org/abs/1502.03167)   #\n",
        "    # might prove to be helpful.                                          #\n",
        "    #######################################################################\n",
        "    # Replace \"pass\" statement with your code\n",
        "    pass\n",
        "    #######################################################################\n",
        "    #                           END OF YOUR CODE                          #\n",
        "    #######################################################################\n",
        "  elif mode == 'test':\n",
        "    #######################################################################\n",
        "    # TODO: Implement the test-time forward pass for batch normalization. #\n",
        "    # Use the running mean and variance to normalize the incoming data,   #\n",
        "    # then scale and shift the normalized data using gamma and beta.      #\n",
        "    # Store the result in the out variable.                               #\n",
        "    #######################################################################\n",
        "    # Replace \"pass\" statement with your code\n",
        "    pass\n",
        "    #######################################################################\n",
        "    #                           END OF YOUR CODE                          #\n",
        "    #######################################################################\n",
        "  else:\n",
        "    raise ValueError('Invalid forward batchnorm mode \"%s\"' % mode)\n",
        "\n",
        "  # Store the updated running means back into bn_param\n",
        "  bn_param['running_mean'] = running_mean.detach()\n",
        "  bn_param['running_var'] = running_var.detach()\n",
        "\n",
        "  return out, cache\n",
        "\n",
        "BatchNorm.forward = batchnorm_forward"
      ]
    },
    {
      "cell_type": "markdown",
      "metadata": {
        "id": "q9cFW4heSrpt"
      },
      "source": [
        "After implementing the forward pass for batch normalization, you can run the following to sanity check your implementation. After running batch normalization with beta=0 and gamma=1, the data should have zero mean and unit variance.\n",
        "\n",
        "After running batch normalization with nontrivial beta and gamma, the output data should have mean approximately equal to beta, and std approximatly equal to gamma."
      ]
    },
    {
      "cell_type": "code",
      "execution_count": null,
      "metadata": {
        "id": "7iB1mAkLwypZ"
      },
      "outputs": [],
      "source": [
        "# Check the training-time forward pass by checking means and variances\n",
        "# of features both before and after batch normalization   \n",
        "def print_mean_std(x,dim=0):\n",
        "  means = ['%.3f' % xx for xx in x.mean(dim=dim).tolist()]\n",
        "  stds = ['%.3f' % xx for xx in x.std(dim=dim).tolist()]\n",
        "  print('  means: ', means)\n",
        "  print('  stds:  ', stds)\n",
        "  print()\n",
        "\n",
        "# Simulate the forward pass for a two-layer network\n",
        "fix_random_seed(0)\n",
        "N, D1, D2, D3 = 200, 50, 60, 3\n",
        "X = torch.randn(N, D1, **to_double_cuda)\n",
        "W1 = torch.randn(D1, D2, **to_double_cuda)\n",
        "W2 = torch.randn(D2, D3, **to_double_cuda)\n",
        "a = X.matmul(W1).clamp(min=0.).matmul(W2)\n",
        "\n",
        "print('Before batch normalization:')\n",
        "print_mean_std(a,dim=0)\n",
        "\n",
        "# Run with gamma=1, beta=0. Means should be close to zero and stds close to one\n",
        "gamma = torch.ones(D3, **to_double_cuda)\n",
        "beta = torch.zeros(D3, **to_double_cuda)\n",
        "print('After batch normalization (gamma=1, beta=0)')\n",
        "a_norm, _ = BatchNorm.forward(a, gamma, beta, {'mode': 'train'})\n",
        "print_mean_std(a_norm,dim=0)\n",
        "\n",
        "# Run again with nontrivial gamma and beta. Now means should be close to beta\n",
        "# and std should be close to gamma.\n",
        "gamma = torch.tensor([1.0, 2.0, 3.0], **to_double_cuda)\n",
        "beta = torch.tensor([11.0, 12.0, 13.0], **to_double_cuda)\n",
        "print('After batch normalization (gamma=', gamma.tolist(), ', beta=', beta.tolist(), ')')\n",
        "a_norm, _ = BatchNorm.forward(a, gamma, beta, {'mode': 'train'})\n",
        "print_mean_std(a_norm,dim=0)"
      ]
    },
    {
      "cell_type": "markdown",
      "metadata": {
        "id": "qGUPz4t_Tam4"
      },
      "source": [
        "We can sanity-check the test-time forward pass of batch normalization by running the following. First we run the training-time forward pass many times to \"warm up\" the running averages. If we then run a test-time forward pass, the output should have approximately zero mean and unit variance."
      ]
    },
    {
      "cell_type": "code",
      "execution_count": null,
      "metadata": {
        "id": "w8lPQyI9wype"
      },
      "outputs": [],
      "source": [
        "fix_random_seed(0)\n",
        "N, D1, D2, D3 = 200, 50, 60, 3\n",
        "W1 = torch.randn(D1, D2, **to_double_cuda)\n",
        "W2 = torch.randn(D2, D3, **to_double_cuda)\n",
        "\n",
        "bn_param = {'mode': 'train'}\n",
        "gamma = torch.ones(D3, **to_double_cuda)\n",
        "beta = torch.zeros(D3, **to_double_cuda)\n",
        "\n",
        "for t in range(500):\n",
        "  X = torch.randn(N, D1, **to_double_cuda)\n",
        "  a = X.matmul(W1).clamp(min=0.).matmul(W2)\n",
        "  BatchNorm.forward(a, gamma, beta, bn_param)\n",
        "\n",
        "bn_param['mode'] = 'test'\n",
        "X = torch.randn(N, D1, **to_double_cuda)\n",
        "a = X.matmul(W1).clamp(min=0.).matmul(W2)\n",
        "a_norm, _ = BatchNorm.forward(a, gamma, beta, bn_param)\n",
        "\n",
        "# Means should be close to zero and stds close to one, but will be\n",
        "# noisier than training-time forward passes.\n",
        "print('After batch normalization (test-time):')\n",
        "print_mean_std(a_norm,dim=0)"
      ]
    },
    {
      "cell_type": "markdown",
      "metadata": {
        "id": "jt0hsHxIwypj"
      },
      "source": [
        "## Batch normalization: backward\n",
        "Now implement the backward pass for batch normalization in the function `BatchNorm.backward`.\n",
        "\n",
        "To derive the backward pass you should write out the computation graph for batch normalization and backprop through each of the intermediate nodes. Some intermediates may have multiple outgoing branches; make sure to sum gradients across these branches in the backward pass.\n",
        "\n",
        "Please don't forget to implement the train and test mode separately.\n",
        "\n",
        "Once you have finished, run the following to numerically check your backward pass."
      ]
    },
    {
      "cell_type": "code",
      "execution_count": null,
      "metadata": {
        "id": "HpjnmV8D6e0Y"
      },
      "outputs": [],
      "source": [
        "def batchnorm_backward(dout, cache):\n",
        "  \"\"\"\n",
        "  Backward pass for batch normalization.\n",
        "\n",
        "  For this implementation, you should write out a computation graph for\n",
        "  batch normalization on paper and propagate gradients backward through\n",
        "  intermediate nodes.\n",
        "\n",
        "  Inputs:\n",
        "  - dout: Upstream derivatives, of shape (N, D)\n",
        "  - cache: Variable of intermediates from batchnorm_forward.\n",
        "\n",
        "  Returns a tuple of:\n",
        "  - dx: Gradient with respect to inputs x, of shape (N, D)\n",
        "  - dgamma: Gradient with respect to scale parameter gamma, of shape (D,)\n",
        "  - dbeta: Gradient with respect to shift parameter beta, of shape (D,)\n",
        "  \"\"\"\n",
        "  dx, dgamma, dbeta = None, None, None\n",
        "  ###########################################################################\n",
        "  # TODO: Implement the backward pass for batch normalization. Store the    #\n",
        "  # results in the dx, dgamma, and dbeta variables.                         #\n",
        "  # Referencing the original paper (https://arxiv.org/abs/1502.03167)       #\n",
        "  # might prove to be helpful.                                              #\n",
        "  # Don't forget to implement train and test mode separately.               #\n",
        "  ###########################################################################\n",
        "  # Replace \"pass\" statement with your code\n",
        "  pass\n",
        "  ###########################################################################\n",
        "  #                             END OF YOUR CODE                            #\n",
        "  ###########################################################################\n",
        "\n",
        "  return dx, dgamma, dbeta\n",
        "\n",
        "BatchNorm.backward = batchnorm_backward"
      ]
    },
    {
      "cell_type": "code",
      "execution_count": null,
      "metadata": {
        "id": "n2pMzvTqwypk"
      },
      "outputs": [],
      "source": [
        "# Gradient check batchnorm backward pass\n",
        "fix_random_seed(0)\n",
        "N, D = 4, 5\n",
        "x = 5 * torch.randn(N, D, **to_double_cuda) + 12\n",
        "gamma = torch.randn(D, **to_double_cuda)\n",
        "beta = torch.randn(D, **to_double_cuda)\n",
        "dout = torch.randn(N, D, **to_double_cuda)\n",
        "\n",
        "bn_param = {'mode': 'train'}\n",
        "fx = lambda x: BatchNorm.forward(x, gamma, beta, bn_param)[0]\n",
        "fg = lambda a: BatchNorm.forward(x, a, beta, bn_param)[0]\n",
        "fb = lambda b: BatchNorm.forward(x, gamma, b, bn_param)[0]\n",
        "\n",
        "dx_num = compute_numeric_gradient(fx, x, dout)\n",
        "da_num = compute_numeric_gradient(fg, gamma.clone(), dout)\n",
        "db_num = compute_numeric_gradient(fb, beta.clone(), dout)\n",
        "\n",
        "_, cache = BatchNorm.forward(x, gamma, beta, bn_param)\n",
        "dx, dgamma, dbeta = BatchNorm.backward(dout, cache)\n",
        "# You should expect to see relative errors between 1e-12 and 1e-9\n",
        "print('dx error: ', rel_error(dx_num, dx))\n",
        "print('dgamma error: ', rel_error(da_num, dgamma))\n",
        "print('dbeta error: ', rel_error(db_num, dbeta))"
      ]
    },
    {
      "cell_type": "markdown",
      "metadata": {
        "id": "hFxuZMUAwypp"
      },
      "source": [
        "## Batch normalization: alternative backward\n",
        "In class we talked about two different implementations for the sigmoid backward pass. One strategy is to write out a computation graph composed of simple operations and backprop through all intermediate values. Another strategy is to work out the derivatives on paper. For example, you can derive a very simple formula for the sigmoid function's backward pass by simplifying gradients on paper.\n",
        "\n",
        "Surprisingly, it turns out that you can do a similar simplification for the batch normalization backward pass too!  \n",
        "\n",
        "In the forward pass, given a set of inputs $X=\\begin{bmatrix}x_1\\\\x_2\\\\...\\\\x_N\\end{bmatrix}$, \n",
        "\n",
        "we first calculate the mean $\\mu$ and variance $v$.\n",
        "With $\\mu$ and $v$ calculated, we can calculate the standard deviation $\\sigma$  and normalized data $Y$.\n",
        "The equations and graph illustration below describe the computation ($y_i$ is the i-th element of the vector $Y$).\n",
        "\n",
        "\\begin{align}\n",
        "& \\mu=\\frac{1}{N}\\sum_{k=1}^N x_k  &  v=\\frac{1}{N}\\sum_{k=1}^N (x_k-\\mu)^2 \\\\\n",
        "& \\sigma=\\sqrt{v+\\epsilon}         &  y_i=\\frac{x_i-\\mu}{\\sigma}\n",
        "\\end{align}"
      ]
    },
    {
      "cell_type": "markdown",
      "metadata": {
        "id": "gVoopiQ7wypr"
      },
      "source": [
        "<img src=\"https://web.eecs.umich.edu/~justincj/teaching/eecs498/assets/a3/batchnorm_graph.png\" width=691 height=202>"
      ]
    },
    {
      "cell_type": "markdown",
      "metadata": {
        "id": "EDTJ6AXawypt",
        "tags": [
          "pdf-ignore"
        ]
      },
      "source": [
        "The meat of our problem during backpropagation is to compute $\\frac{\\partial L}{\\partial X}$, given the upstream gradient we receive, $\\frac{\\partial L}{\\partial Y}.$ To do this, recall the chain rule in calculus gives us $\\frac{\\partial L}{\\partial X} = \\frac{\\partial L}{\\partial Y} \\cdot \\frac{\\partial Y}{\\partial X}$.\n",
        "\n",
        "The unknown/hart part is $\\frac{\\partial Y}{\\partial X}$. We can find this by first deriving step-by-step our local gradients at \n",
        "$\\frac{\\partial v}{\\partial X}$, $\\frac{\\partial \\mu}{\\partial X}$,\n",
        "$\\frac{\\partial \\sigma}{\\partial v}$, \n",
        "$\\frac{\\partial Y}{\\partial \\sigma}$, and $\\frac{\\partial Y}{\\partial \\mu}$,\n",
        "and then use the chain rule to compose these gradients (which appear in the form of vectors!) appropriately to compute $\\frac{\\partial Y}{\\partial X}$.\n",
        "\n",
        "If it's challenging to directly reason about the gradients over $X$ and $Y$ which require matrix multiplication, try reasoning about the gradients in terms of individual elements $x_i$ and $y_i$ first: in that case, you will need to come up with the derivations for $\\frac{\\partial L}{\\partial x_i}$, by relying on the Chain Rule to first calculate the intermediate $\\frac{\\partial \\mu}{\\partial x_i}, \\frac{\\partial v}{\\partial x_i}, \\frac{\\partial \\sigma}{\\partial x_i},$ then assemble these pieces to calculate $\\frac{\\partial y_i}{\\partial x_i}$. \n",
        "\n",
        "You should make sure each of the intermediary gradient derivations are all as simplified as possible, for ease of implementation. \n",
        "\n",
        "After doing so, implement the simplified batch normalization backward pass in the function `BatchNorm.backward_alt` and compare the two implementations by running the following. Your two implementations should compute nearly identical results, but the alternative implementation should be a bit faster."
      ]
    },
    {
      "cell_type": "code",
      "execution_count": null,
      "metadata": {
        "id": "zTh1EemM7MD3"
      },
      "outputs": [],
      "source": [
        "def batchnorm_backward_alt(dout, cache):\n",
        "  \"\"\"\n",
        "  Alternative backward pass for batch normalization.\n",
        "  For this implementation you should work out the derivatives for the batch\n",
        "  normalizaton backward pass on paper and simplify as much as possible. You\n",
        "  should be able to derive a simple expression for the backward pass. \n",
        "  See the jupyter notebook for more hints.\n",
        "   \n",
        "  Note: This implementation should expect to receive the same cache variable\n",
        "  as batchnorm_backward, but might not use all of the values in the cache.\n",
        "\n",
        "  Inputs / outputs: Same as batchnorm_backward\n",
        "  \"\"\"\n",
        "  dx, dgamma, dbeta = None, None, None\n",
        "  ###########################################################################\n",
        "  # TODO: Implement the backward pass for batch normalization. Store the    #\n",
        "  # results in the dx, dgamma, and dbeta variables.                         #\n",
        "  #                                                                         #\n",
        "  # After computing the gradient with respect to the centered inputs, you   #\n",
        "  # should be able to compute gradients with respect to the inputs in a     #\n",
        "  # single statement; our implementation fits on a single 80-character line.#\n",
        "  ###########################################################################\n",
        "  # Replace \"pass\" statement with your code\n",
        "  pass\n",
        "  ###########################################################################\n",
        "  #                             END OF YOUR CODE                            #\n",
        "  ###########################################################################\n",
        "\n",
        "  return dx, dgamma, dbeta\n",
        "\n",
        "BatchNorm.backward_alt = batchnorm_backward_alt"
      ]
    },
    {
      "cell_type": "code",
      "execution_count": null,
      "metadata": {
        "id": "cJZp2i7ywypv"
      },
      "outputs": [],
      "source": [
        "fix_random_seed(0)\n",
        "N, D = 128, 2048\n",
        "x = 5 * torch.randn(N, D, **to_double_cuda) + 12\n",
        "gamma = torch.randn(D, **to_double_cuda)\n",
        "beta = torch.randn(D, **to_double_cuda)\n",
        "dout = torch.randn(N, D, **to_double_cuda)\n",
        "\n",
        "bn_param = {'mode': 'train'}\n",
        "out, cache = BatchNorm.forward(x, gamma, beta, bn_param)\n",
        "\n",
        "t1 = time.time()\n",
        "dx1, dgamma1, dbeta1 = BatchNorm.backward(dout, cache)\n",
        "t2 = time.time()\n",
        "dx2, dgamma2, dbeta2 = BatchNorm.backward_alt(dout, cache)\n",
        "t3 = time.time()\n",
        "\n",
        "print('dx difference: ', rel_error(dx1, dx2))\n",
        "print('dgamma difference: ', rel_error(dgamma1, dgamma2))\n",
        "print('dbeta difference: ', rel_error(dbeta1, dbeta2))\n",
        "print('speedup: %.2fx' % ((t2 - t1) / (t3 - t2)))"
      ]
    },
    {
      "cell_type": "markdown",
      "metadata": {
        "id": "uIJWjzFZw73z"
      },
      "source": [
        "# Spatial Batch Normalization\n",
        "As proposed in the original paper, batch normalization can also be used for convolutional networks, but we need to tweak it a bit; the modification will be called \"spatial batch normalization.\"\n",
        "\n",
        "Normally batch-normalization accepts inputs of shape `(N, D)` and produces outputs of shape `(N, D)`, where we normalize across the minibatch dimension `N`. For data coming from convolutional layers, batch normalization needs to accept inputs of shape `(N, C, H, W)` and produce outputs of shape `(N, C, H, W)` where the `N` dimension gives the minibatch size and the `(H, W)` dimensions give the spatial size of the feature map.\n",
        "\n",
        "If the feature map was produced using convolutions, then we expect every feature channel's statistics e.g. mean, variance to be relatively consistent both between different images, and different locations within the same image -- after all, every feature channel is produced by the same convolutional filter! Therefore spatial batch normalization computes a mean and variance for each of the `C` feature channels by computing statistics over the minibatch dimension `N` as well the spatial dimensions `H` and `W`.\n",
        "\n",
        "\n",
        "[1] [Sergey Ioffe and Christian Szegedy, \"Batch Normalization: Accelerating Deep Network Training by Reducing\n",
        "Internal Covariate Shift\", ICML 2015.](https://arxiv.org/abs/1502.03167)"
      ]
    },
    {
      "cell_type": "code",
      "execution_count": null,
      "metadata": {
        "id": "8Czv0Qu0BsDh"
      },
      "outputs": [],
      "source": [
        "class SpatialBatchNorm(object):\n",
        "\n",
        "  @staticmethod\n",
        "  def forward(x, gamma, beta, bn_param):\n",
        "    raise NotImplementedError\n",
        "\n",
        "  @staticmethod\n",
        "  def backward(dout, cache):\n",
        "    raise NotImplementedError"
      ]
    },
    {
      "cell_type": "markdown",
      "metadata": {
        "id": "oqCmKCw7w730"
      },
      "source": [
        "## Spatial batch normalization: forward\n",
        "\n",
        "Implement the forward pass for spatial batch normalization in the function `SpatialBatchNorm.forward`. Check your implementation by running the following:"
      ]
    },
    {
      "cell_type": "code",
      "execution_count": null,
      "metadata": {
        "id": "oBjsUeK_Bq7-"
      },
      "outputs": [],
      "source": [
        "def spatial_batchnorm_forward(x, gamma, beta, bn_param):\n",
        "  \"\"\"\n",
        "  Computes the forward pass for spatial batch normalization.\n",
        "\n",
        "  Inputs:\n",
        "  - x: Input data of shape (N, C, H, W)\n",
        "  - gamma: Scale parameter, of shape (C,)\n",
        "  - beta: Shift parameter, of shape (C,)\n",
        "  - bn_param: Dictionary with the following keys:\n",
        "    - mode: 'train' or 'test'; required\n",
        "    - eps: Constant for numeric stability\n",
        "    - momentum: Constant for running mean / variance. momentum=0 means that\n",
        "    old information is discarded completely at every time step, while\n",
        "    momentum=1 means that new information is never incorporated. The\n",
        "    default of momentum=0.9 should work well in most situations.\n",
        "    - running_mean: Array of shape (D,) giving running mean of features\n",
        "    - running_var Array of shape (D,) giving running variance of features\n",
        "\n",
        "  Returns a tuple of:\n",
        "  - out: Output data, of shape (N, C, H, W)\n",
        "  - cache: Values needed for the backward pass\n",
        "  \"\"\"\n",
        "  out, cache = None, None\n",
        "\n",
        "  ###########################################################################\n",
        "  # TODO: Implement the forward pass for spatial batch normalization.       #\n",
        "  #                                                                         #\n",
        "  # HINT: You can implement spatial batch normalization by calling the      #\n",
        "  # vanilla version of batch normalization you implemented above.           #\n",
        "  # Your implementation should be very short; ours is less than five lines. #\n",
        "  ###########################################################################\n",
        "  # Replace \"pass\" statement with your code\n",
        "  pass\n",
        "  ###########################################################################\n",
        "  #                             END OF YOUR CODE                            #\n",
        "  ###########################################################################\n",
        "\n",
        "  return out, cache\n",
        "\n",
        "SpatialBatchNorm.forward = spatial_batchnorm_forward"
      ]
    },
    {
      "cell_type": "markdown",
      "metadata": {
        "id": "5ZHLPa6-UkY1"
      },
      "source": [
        "After implementing the forward pass for spatial batch normalization, you can run the following to sanity check your code."
      ]
    },
    {
      "cell_type": "code",
      "execution_count": null,
      "metadata": {
        "id": "3x-vfMnIw732"
      },
      "outputs": [],
      "source": [
        "fix_random_seed(0)\n",
        "# Check the training-time forward pass by checking means and variances\n",
        "# of features both before and after spatial batch normalization\n",
        "\n",
        "N, C, H, W = 2, 3, 4, 5\n",
        "x = 4 * torch.randn(N, C, H, W, **to_double_cuda) + 10\n",
        "\n",
        "print('Before spatial batch normalization:')\n",
        "print('  Shape: ', x.shape)\n",
        "print('  Means: ', x.mean(dim=(0, 2, 3)))\n",
        "print('  Stds: ', x.std(dim=(0, 2, 3)))\n",
        "\n",
        "# Means should be close to zero and stds close to one\n",
        "gamma, beta = torch.ones(C, **to_double_cuda), torch.zeros(C, **to_double_cuda)\n",
        "bn_param = {'mode': 'train'}\n",
        "out, _ = SpatialBatchNorm.forward(x, gamma, beta, bn_param)\n",
        "print('After spatial batch normalization:')\n",
        "print('  Shape: ', out.shape)\n",
        "print('  Means: ', out.mean(dim=(0, 2, 3)))\n",
        "print('  Stds: ', out.std(dim=(0, 2, 3)))\n",
        "\n",
        "# Means should be close to beta and stds close to gamma\n",
        "gamma, beta = torch.tensor([3, 4, 5], **to_double_cuda), torch.tensor([6, 7, 8], **to_double_cuda)\n",
        "out, _ = SpatialBatchNorm.forward(x, gamma, beta, bn_param)\n",
        "print('After spatial batch normalization (nontrivial gamma, beta):')\n",
        "print('  Shape: ', out.shape)\n",
        "print('  Means: ', out.mean(dim=(0, 2, 3)))\n",
        "print('  Stds: ', out.std(dim=(0, 2, 3)))"
      ]
    },
    {
      "cell_type": "markdown",
      "metadata": {
        "id": "RxzqSGqZUr2J"
      },
      "source": [
        "Similar to the vanilla batch normalization implementation, run the following to sanity-check the test-time forward pass of spatial batch normalization."
      ]
    },
    {
      "cell_type": "code",
      "execution_count": null,
      "metadata": {
        "id": "7z2Eu2Xlw736"
      },
      "outputs": [],
      "source": [
        "fix_random_seed(0)\n",
        "# Check the test-time forward pass by running the training-time\n",
        "# forward pass many times to warm up the running averages, and then\n",
        "# checking the means and variances of activations after a test-time\n",
        "# forward pass.\n",
        "N, C, H, W = 10, 4, 11, 12\n",
        "\n",
        "bn_param = {'mode': 'train'}\n",
        "gamma = torch.ones(C, **to_double_cuda)\n",
        "beta = torch.zeros(C, **to_double_cuda)\n",
        "for t in range(50):\n",
        "  x = 2.3 * torch.randn(N, C, H, W, **to_double_cuda) + 13\n",
        "  SpatialBatchNorm.forward(x, gamma, beta, bn_param)\n",
        "bn_param['mode'] = 'test'\n",
        "x = 2.3 * torch.randn(N, C, H, W, **to_double_cuda) + 13\n",
        "a_norm, _ = SpatialBatchNorm.forward(x, gamma, beta, bn_param)\n",
        "\n",
        "# Means should be close to zero and stds close to one, but will be\n",
        "# noisier than training-time forward passes.\n",
        "print('After spatial batch normalization (test-time):')\n",
        "print('  means: ', a_norm.mean(dim=(0, 2, 3)))\n",
        "print('  stds: ', a_norm.std(dim=(0, 2, 3)))"
      ]
    },
    {
      "cell_type": "markdown",
      "metadata": {
        "id": "dVdE3j3iw739"
      },
      "source": [
        "## Spatial batch normalization: backward\n",
        "Implement the backward pass for spatial batch normalization in the function `SpatialBatchNorm.backward`."
      ]
    },
    {
      "cell_type": "code",
      "execution_count": null,
      "metadata": {
        "id": "v9TqgGJ0DlCV"
      },
      "outputs": [],
      "source": [
        "def spatial_batchnorm_backward(dout, cache):\n",
        "  \"\"\"\n",
        "  Computes the backward pass for spatial batch normalization.\n",
        "  Inputs:\n",
        "  - dout: Upstream derivatives, of shape (N, C, H, W)\n",
        "  - cache: Values from the forward pass\n",
        "  Returns a tuple of:\n",
        "  - dx: Gradient with respect to inputs, of shape (N, C, H, W)\n",
        "  - dgamma: Gradient with respect to scale parameter, of shape (C,)\n",
        "  - dbeta: Gradient with respect to shift parameter, of shape (C,)\n",
        "  \"\"\"\n",
        "  dx, dgamma, dbeta = None, None, None\n",
        "\n",
        "  ###########################################################################\n",
        "  # TODO: Implement the backward pass for spatial batch normalization.      #\n",
        "  #                                                                         #\n",
        "  # HINT: You can implement spatial batch normalization by calling the      #\n",
        "  # vanilla version of batch normalization you implemented above.           #\n",
        "  # Your implementation should be very short; ours is less than five lines. #\n",
        "  ###########################################################################\n",
        "  # Replace \"pass\" statement with your code\n",
        "  pass\n",
        "  ###########################################################################\n",
        "  #                             END OF YOUR CODE                            #\n",
        "  ###########################################################################\n",
        "\n",
        "  return dx, dgamma, dbeta\n",
        "\n",
        "SpatialBatchNorm.backward = spatial_batchnorm_backward"
      ]
    },
    {
      "cell_type": "markdown",
      "metadata": {
        "id": "B5efGyfwU3rK"
      },
      "source": [
        "After implementing the backward pass for spatial batch normalization, run the following to perform numeric gradient checking on your implementation. You should see errors less than `1e-6`."
      ]
    },
    {
      "cell_type": "code",
      "execution_count": null,
      "metadata": {
        "id": "5Z2j4mQlw73_"
      },
      "outputs": [],
      "source": [
        "fix_random_seed(0)\n",
        "N, C, H, W = 2, 3, 4, 5\n",
        "x = 5 * torch.randn(N, C, H, W, **to_double_cuda) + 12\n",
        "gamma = torch.randn(C, **to_double_cuda)\n",
        "beta = torch.randn(C, **to_double_cuda)\n",
        "dout = torch.randn(N, C, H, W, **to_double_cuda)\n",
        "\n",
        "bn_param = {'mode': 'train'}\n",
        "fx = lambda x: SpatialBatchNorm.forward(x, gamma, beta, bn_param)[0]\n",
        "fg = lambda a: SpatialBatchNorm.forward(x, gamma, beta, bn_param)[0]\n",
        "fb = lambda b: SpatialBatchNorm.forward(x, gamma, beta, bn_param)[0]\n",
        "\n",
        "dx_num = compute_numeric_gradient(fx, x, dout)\n",
        "da_num = compute_numeric_gradient(fg, gamma, dout)\n",
        "db_num = compute_numeric_gradient(fb, beta, dout)\n",
        "\n",
        "_, cache = SpatialBatchNorm.forward(x, gamma, beta, bn_param)\n",
        "dx, dgamma, dbeta = SpatialBatchNorm.backward(dout, cache)\n",
        "print('dx error: ', rel_error(dx_num, dx))\n",
        "print('dgamma error: ', rel_error(da_num, dgamma))\n",
        "print('dbeta error: ', rel_error(db_num, dbeta))"
      ]
    },
    {
      "cell_type": "markdown",
      "metadata": {
        "id": "9qS4seVFEkAN"
      },
      "source": [
        "# \"Sandwich\" layers with batch normalization\n",
        "Again, below you will find sandwich layers that implement a few commonly used patterns for convolutional networks."
      ]
    },
    {
      "cell_type": "code",
      "execution_count": null,
      "metadata": {
        "id": "FUY0tkJTEkAU"
      },
      "outputs": [],
      "source": [
        "class Linear_BatchNorm_ReLU(object):\n",
        "\n",
        "  @staticmethod\n",
        "  def forward(x, w, b, gamma, beta, bn_param):\n",
        "    \"\"\"\n",
        "    Convenience layer that performs an linear transform, batch normalization,\n",
        "    and ReLU.\n",
        "    Inputs:\n",
        "    - x: Array of shape (N, D1); input to the linear layer\n",
        "    - w, b: Arrays of shape (D2, D2) and (D2,) giving the weight and bias for\n",
        "      the linear transform.\n",
        "    - gamma, beta: Arrays of shape (D2,) and (D2,) giving scale and shift\n",
        "      parameters for batch normalization.\n",
        "    - bn_param: Dictionary of parameters for batch normalization.\n",
        "    Returns:\n",
        "    - out: Output from ReLU, of shape (N, D2)\n",
        "    - cache: Object to give to the backward pass.\n",
        "    \"\"\"\n",
        "    a, fc_cache = Linear.forward(x, w, b)\n",
        "    a_bn, bn_cache = BatchNorm.forward(a, gamma, beta, bn_param)\n",
        "    out, relu_cache = ReLU.forward(a_bn)\n",
        "    cache = (fc_cache, bn_cache, relu_cache)\n",
        "    return out, cache\n",
        "\n",
        "  @staticmethod\n",
        "  def backward(dout, cache):\n",
        "    \"\"\"\n",
        "    Backward pass for the linear-batchnorm-relu convenience layer.\n",
        "    \"\"\"\n",
        "    fc_cache, bn_cache, relu_cache = cache\n",
        "    da_bn = ReLU.backward(dout, relu_cache)\n",
        "    da, dgamma, dbeta = BatchNorm.backward(da_bn, bn_cache)\n",
        "    dx, dw, db = Linear.backward(da, fc_cache)\n",
        "    return dx, dw, db, dgamma, dbeta\n",
        "\n",
        "\n",
        "class Conv_BatchNorm_ReLU(object):\n",
        "\n",
        "  @staticmethod\n",
        "  def forward(x, w, b, gamma, beta, conv_param, bn_param):\n",
        "    a, conv_cache = FastConv.forward(x, w, b, conv_param)\n",
        "    an, bn_cache = SpatialBatchNorm.forward(a, gamma, beta, bn_param)\n",
        "    out, relu_cache = ReLU.forward(an)\n",
        "    cache = (conv_cache, bn_cache, relu_cache)\n",
        "    return out, cache\n",
        "\n",
        "  @staticmethod\n",
        "  def backward(dout, cache):\n",
        "    conv_cache, bn_cache, relu_cache = cache\n",
        "    dan = ReLU.backward(dout, relu_cache)\n",
        "    da, dgamma, dbeta = SpatialBatchNorm.backward(dan, bn_cache)\n",
        "    dx, dw, db = FastConv.backward(da, conv_cache)\n",
        "    return dx, dw, db, dgamma, dbeta\n",
        "\n",
        "\n",
        "class Conv_BatchNorm_ReLU_Pool(object):\n",
        "\n",
        "  @staticmethod\n",
        "  def forward(x, w, b, gamma, beta, conv_param, bn_param, pool_param):\n",
        "    a, conv_cache = FastConv.forward(x, w, b, conv_param)\n",
        "    an, bn_cache = SpatialBatchNorm.forward(a, gamma, beta, bn_param)\n",
        "    s, relu_cache = ReLU.forward(an)\n",
        "    out, pool_cache = FastMaxPool.forward(s, pool_param)\n",
        "    cache = (conv_cache, bn_cache, relu_cache, pool_cache)\n",
        "    return out, cache\n",
        "\n",
        "  @staticmethod\n",
        "  def backward(dout, cache):\n",
        "    conv_cache, bn_cache, relu_cache, pool_cache = cache\n",
        "    ds = FastMaxPool.backward(dout, pool_cache)\n",
        "    dan = ReLU.backward(ds, relu_cache)\n",
        "    da, dgamma, dbeta = SpatialBatchNorm.backward(dan, bn_cache)\n",
        "    dx, dw, db = FastConv.backward(da, conv_cache)\n",
        "    return dx, dw, db, dgamma, dbeta"
      ]
    },
    {
      "cell_type": "markdown",
      "metadata": {
        "id": "1C8k4fRgwyp1"
      },
      "source": [
        "# Convolutional nets with batch normalization\n",
        "Now that you have a working implementation for batch normalization, go back to your [`DeepConvnet`](#scrollTo=Ah-_nwx2BSxl). Modify your implementation to add batch normalization.\n",
        "\n",
        "Concretely, when the `batchnorm` flag is set to `True` in the constructor, you should insert a batch normalization layer before each ReLU nonlinearity. The outputs from the last linear layer of the network should not be normalized. Once you are done, run the following to gradient-check your implementation.\n",
        "\n",
        "In the reg=0 case, you should see errors less than `1e-6` for all weights and batchnorm parameters (beta and gamma); for biases you should see errors less than `1e-2`.\n",
        "\n",
        "In the reg=3.14 case, you should see errors less than `1e-6` for all parameters."
      ]
    },
    {
      "cell_type": "code",
      "execution_count": null,
      "metadata": {
        "id": "E5sLZ6J1wyp6"
      },
      "outputs": [],
      "source": [
        "num_inputs = 2\n",
        "input_dims = (3, 8, 8)\n",
        "num_classes = 10\n",
        "fix_random_seed(0)\n",
        "X = torch.randn(num_inputs, *input_dims, **to_double_cuda)\n",
        "y = torch.randint(num_classes, size=(num_inputs,), **to_long_cuda)\n",
        "\n",
        "for reg in [0, 3.14]:\n",
        "  print('Running check with reg = ', reg)\n",
        "  model = DeepConvNet(input_dims=input_dims, num_classes=num_classes,\n",
        "                      num_filters=[8, 8, 8],\n",
        "                      max_pools=[0, 2],\n",
        "                      reg=reg, batchnorm=True,\n",
        "                      weight_scale='kaiming',\n",
        "                      **to_double_cuda)\n",
        "\n",
        "  loss, grads = model.loss(X, y)\n",
        "  # The relative errors should be up to the order of e-3\n",
        "  for name in sorted(grads):\n",
        "    f = lambda _: model.loss(X, y)[0]\n",
        "    grad_num = compute_numeric_gradient(f, model.params[name])\n",
        "    print('%s max relative error: %e' % (name, rel_error(grad_num, grads[name])))\n",
        "  if reg == 0: print()"
      ]
    },
    {
      "cell_type": "markdown",
      "metadata": {
        "id": "T-D9TV8qwyp9"
      },
      "source": [
        "# Batchnorm for deep convolutional networks\n",
        "Run the following to train a deep convolutional network on a subset of 500 training examples both with and without batch normalization."
      ]
    },
    {
      "cell_type": "code",
      "execution_count": null,
      "metadata": {
        "id": "IrrKxsVGwyp_"
      },
      "outputs": [],
      "source": [
        "fix_random_seed(0)\n",
        "\n",
        "# Try training a deep convolutional net with batchnorm\n",
        "num_train = 500\n",
        "small_data = {\n",
        "  'X_train': data_dict['X_train'][:num_train],\n",
        "  'y_train': data_dict['y_train'][:num_train],\n",
        "  'X_val': data_dict['X_val'],\n",
        "  'y_val': data_dict['y_val'],\n",
        "}\n",
        "input_dims = data_dict['X_train'].shape[1:]\n",
        "\n",
        "bn_model = DeepConvNet(input_dims=input_dims, num_classes=10,\n",
        "                       num_filters=[16, 32, 32, 64, 64],\n",
        "                       max_pools=[0, 1, 2, 3, 4],\n",
        "                       weight_scale='kaiming',\n",
        "                       batchnorm=True,\n",
        "                       reg=1e-5, **to_float_cuda)\n",
        "model = DeepConvNet(input_dims=input_dims, num_classes=10,\n",
        "                    num_filters=[16, 32, 32, 64, 64],\n",
        "                    max_pools=[0, 1, 2, 3, 4],\n",
        "                    weight_scale='kaiming',\n",
        "                    batchnorm=False,\n",
        "                    reg=1e-5, **to_float_cuda)\n",
        "\n",
        "print('Solver with batch norm:')\n",
        "bn_solver = Solver(bn_model, small_data,\n",
        "                   num_epochs=10, batch_size=100,\n",
        "                   update_rule=adam,\n",
        "                   optim_config={\n",
        "                     'learning_rate': 1e-3,\n",
        "                   },\n",
        "                   print_every=20, device='cuda')\n",
        "bn_solver.train()\n",
        "\n",
        "print('\\nSolver without batch norm:')\n",
        "solver = Solver(model, small_data,\n",
        "                num_epochs=10, batch_size=100,\n",
        "                update_rule=adam,\n",
        "                optim_config={\n",
        "                  'learning_rate': 1e-3,\n",
        "                },\n",
        "                print_every=20, device='cuda')\n",
        "solver.train()"
      ]
    },
    {
      "cell_type": "markdown",
      "metadata": {
        "id": "4XZ7jZE9wyqE"
      },
      "source": [
        "Run the following to visualize the results from two networks trained above. You should find that using batch normalization helps the network to converge much faster."
      ]
    },
    {
      "cell_type": "code",
      "execution_count": null,
      "metadata": {
        "id": "1oBBnMuGehfi"
      },
      "outputs": [],
      "source": [
        "def plot_training_history_bn(title, label, solvers, bn_solvers, plot_fn, bl_marker='.', bn_marker='.', labels=None):\n",
        "  \"\"\"utility function for plotting training history\"\"\"\n",
        "  plt.title(title)\n",
        "  plt.xlabel(label)\n",
        "  bn_plots = [plot_fn(bn_solver) for bn_solver in bn_solvers]\n",
        "  bl_plots = [plot_fn(solver) for solver in solvers]\n",
        "  num_bn = len(bn_plots)\n",
        "  num_bl = len(bl_plots)\n",
        "  for i in range(num_bn):\n",
        "    label='w/ BN'\n",
        "    if labels is not None:\n",
        "      label += str(labels[i])\n",
        "    plt.plot(bn_plots[i], bn_marker, label=label)\n",
        "  for i in range(num_bl):\n",
        "    label='w/o BN'\n",
        "    if labels is not None:\n",
        "      label += str(labels[i])\n",
        "    plt.plot(bl_plots[i], bl_marker, label=label)\n",
        "  plt.legend(loc='lower center', ncol=num_bn+num_bl)"
      ]
    },
    {
      "cell_type": "code",
      "execution_count": null,
      "metadata": {
        "id": "PVYMhWo9wyqG",
        "tags": [
          "pdf-ignore-input"
        ]
      },
      "outputs": [],
      "source": [
        "plt.subplot(3, 1, 1)\n",
        "plot_training_history_bn('Training loss','Iteration', [solver], [bn_solver], \\\n",
        "                      lambda x: x.loss_history, bl_marker='-o', bn_marker='-o')\n",
        "plt.subplot(3, 1, 2)\n",
        "plot_training_history_bn('Training accuracy','Epoch', [solver], [bn_solver], \\\n",
        "                      lambda x: x.train_acc_history, bl_marker='-o', bn_marker='-o')\n",
        "plt.subplot(3, 1, 3)\n",
        "plot_training_history_bn('Validation accuracy','Epoch', [solver], [bn_solver], \\\n",
        "                      lambda x: x.val_acc_history, bl_marker='-o', bn_marker='-o')\n",
        "\n",
        "plt.gcf().set_size_inches(15, 15)\n",
        "plt.show()"
      ]
    },
    {
      "cell_type": "markdown",
      "metadata": {
        "id": "YV6-pJEdSXMh"
      },
      "source": [
        "# Batch normalization and learning rate\n",
        "We will now run a small experiment to study the interaction of batch normalization and learning rate.\n",
        "\n",
        "The first cell will train convolutional networks with different learning rates. The second layer will plot training accuracy and validation set accuracy over time. You should find that using batch normalization helps the network to be less dependent to the learning rate."
      ]
    },
    {
      "cell_type": "code",
      "execution_count": null,
      "metadata": {
        "id": "yVSQ5SesSXMq",
        "tags": [
          "pdf-ignore-input"
        ]
      },
      "outputs": [],
      "source": [
        "fix_random_seed(0)\n",
        "\n",
        "# Try training a very deep net with batchnorm\n",
        "num_train = 10000\n",
        "small_data = {\n",
        "  'X_train': data_dict['X_train'][:num_train],\n",
        "  'y_train': data_dict['y_train'][:num_train],\n",
        "  'X_val': data_dict['X_val'],\n",
        "  'y_val': data_dict['y_val'],\n",
        "}\n",
        "input_dims = data_dict['X_train'].shape[1:]\n",
        "num_epochs = 5\n",
        "lrs = [2e-1, 1e-1, 5e-2]\n",
        "lrs = [5e-3, 1e-2, 2e-2]\n",
        "\n",
        "solvers = []\n",
        "for lr in lrs:\n",
        "  print('No normalization: learning rate = ', lr)\n",
        "  model = DeepConvNet(input_dims=input_dims, num_classes=10,\n",
        "                      num_filters=[8, 8, 8],\n",
        "                      max_pools=[0, 1, 2],\n",
        "                      weight_scale='kaiming',\n",
        "                      batchnorm=False,\n",
        "                      reg=1e-5, **to_float_cuda)\n",
        "  solver = Solver(model, small_data,\n",
        "                  num_epochs=num_epochs, batch_size=100,\n",
        "                  update_rule=sgd_momentum,\n",
        "                  optim_config={\n",
        "                    'learning_rate': lr,\n",
        "                  },\n",
        "                  verbose=False, device='cuda')\n",
        "  solver.train()\n",
        "  solvers.append(solver)\n",
        "\n",
        "bn_solvers = []\n",
        "for lr in lrs:\n",
        "  print('Normalization: learning rate = ', lr)\n",
        "  bn_model = DeepConvNet(input_dims=input_dims, num_classes=10,\n",
        "                         num_filters=[8, 8, 16, 16, 32, 32],\n",
        "                         max_pools=[1, 3, 5],\n",
        "                         weight_scale='kaiming',\n",
        "                         batchnorm=True,\n",
        "                         reg=1e-5, **to_float_cuda)\n",
        "  bn_solver = Solver(bn_model, small_data,\n",
        "                     num_epochs=num_epochs, batch_size=128,\n",
        "                     update_rule=sgd_momentum,\n",
        "                     optim_config={\n",
        "                       'learning_rate': lr,\n",
        "                     },\n",
        "                     verbose=False, device='cuda')\n",
        "  bn_solver.train()\n",
        "  bn_solvers.append(bn_solver)"
      ]
    },
    {
      "cell_type": "code",
      "execution_count": null,
      "metadata": {
        "id": "kBE8AT5SSXMv"
      },
      "outputs": [],
      "source": [
        "plt.subplot(2, 1, 1)\n",
        "plot_training_history_bn('Training accuracy (Batch Normalization)','Epoch', solvers, bn_solvers, \\\n",
        "                      lambda x: x.train_acc_history, bl_marker='-^', bn_marker='-o', labels=[' lr={:.0e}'.format(lr) for lr in lrs])\n",
        "plt.subplot(2, 1, 2)\n",
        "plot_training_history_bn('Validation accuracy (Batch Normalization)','Epoch', solvers, bn_solvers, \\\n",
        "                      lambda x: x.val_acc_history, bl_marker='-^', bn_marker='-o', labels=[' lr={:.0e}'.format(lr) for lr in lrs])\n",
        "\n",
        "plt.gcf().set_size_inches(15, 10)\n",
        "plt.show()"
      ]
    }
  ],
  "metadata": {
    "accelerator": "GPU",
    "colab": {
      "provenance": [],
      "include_colab_link": true
    },
    "jupytext": {
      "main_language": "python"
    },
    "kernelspec": {
      "display_name": "Python 3",
      "name": "python3"
    },
    "language_info": {
      "codemirror_mode": {
        "name": "ipython",
        "version": 3
      },
      "file_extension": ".py",
      "mimetype": "text/x-python",
      "name": "python",
      "nbconvert_exporter": "python",
      "pygments_lexer": "ipython3",
      "version": "3.7.1"
    },
    "widgets": {
      "application/vnd.jupyter.widget-state+json": {
        "47a9f7f246d74aa6b31e0a9251fb47f7": {
          "model_module": "@jupyter-widgets/controls",
          "model_name": "HBoxModel",
          "model_module_version": "1.5.0",
          "state": {
            "_dom_classes": [],
            "_model_module": "@jupyter-widgets/controls",
            "_model_module_version": "1.5.0",
            "_model_name": "HBoxModel",
            "_view_count": null,
            "_view_module": "@jupyter-widgets/controls",
            "_view_module_version": "1.5.0",
            "_view_name": "HBoxView",
            "box_style": "",
            "children": [
              "IPY_MODEL_6d8753063cfb46ada69e7d173518951d",
              "IPY_MODEL_89bbdebe52024484a624149365f73745",
              "IPY_MODEL_401ed5d09a114d588dfc0a20966cac4f"
            ],
            "layout": "IPY_MODEL_a0932da6f2a045d7a3678c8476574c66"
          }
        },
        "6d8753063cfb46ada69e7d173518951d": {
          "model_module": "@jupyter-widgets/controls",
          "model_name": "HTMLModel",
          "model_module_version": "1.5.0",
          "state": {
            "_dom_classes": [],
            "_model_module": "@jupyter-widgets/controls",
            "_model_module_version": "1.5.0",
            "_model_name": "HTMLModel",
            "_view_count": null,
            "_view_module": "@jupyter-widgets/controls",
            "_view_module_version": "1.5.0",
            "_view_name": "HTMLView",
            "description": "",
            "description_tooltip": null,
            "layout": "IPY_MODEL_d12609a1d91f4d1ebe55d9c83c1021eb",
            "placeholder": "​",
            "style": "IPY_MODEL_d533114927354ceba626ab71a03fffb7",
            "value": "100%"
          }
        },
        "89bbdebe52024484a624149365f73745": {
          "model_module": "@jupyter-widgets/controls",
          "model_name": "FloatProgressModel",
          "model_module_version": "1.5.0",
          "state": {
            "_dom_classes": [],
            "_model_module": "@jupyter-widgets/controls",
            "_model_module_version": "1.5.0",
            "_model_name": "FloatProgressModel",
            "_view_count": null,
            "_view_module": "@jupyter-widgets/controls",
            "_view_module_version": "1.5.0",
            "_view_name": "ProgressView",
            "bar_style": "success",
            "description": "",
            "description_tooltip": null,
            "layout": "IPY_MODEL_1ab97d6ce87a4da3aec4674cac9a413d",
            "max": 170498071,
            "min": 0,
            "orientation": "horizontal",
            "style": "IPY_MODEL_93dc845e4eae42c9a7f8217293aef86a",
            "value": 170498071
          }
        },
        "401ed5d09a114d588dfc0a20966cac4f": {
          "model_module": "@jupyter-widgets/controls",
          "model_name": "HTMLModel",
          "model_module_version": "1.5.0",
          "state": {
            "_dom_classes": [],
            "_model_module": "@jupyter-widgets/controls",
            "_model_module_version": "1.5.0",
            "_model_name": "HTMLModel",
            "_view_count": null,
            "_view_module": "@jupyter-widgets/controls",
            "_view_module_version": "1.5.0",
            "_view_name": "HTMLView",
            "description": "",
            "description_tooltip": null,
            "layout": "IPY_MODEL_3b4581a727494ff0925691da859cd3bf",
            "placeholder": "​",
            "style": "IPY_MODEL_43b7fd7e15cf4752bcc4dfac738ed806",
            "value": " 170498071/170498071 [00:13&lt;00:00, 15449875.00it/s]"
          }
        },
        "a0932da6f2a045d7a3678c8476574c66": {
          "model_module": "@jupyter-widgets/base",
          "model_name": "LayoutModel",
          "model_module_version": "1.2.0",
          "state": {
            "_model_module": "@jupyter-widgets/base",
            "_model_module_version": "1.2.0",
            "_model_name": "LayoutModel",
            "_view_count": null,
            "_view_module": "@jupyter-widgets/base",
            "_view_module_version": "1.2.0",
            "_view_name": "LayoutView",
            "align_content": null,
            "align_items": null,
            "align_self": null,
            "border": null,
            "bottom": null,
            "display": null,
            "flex": null,
            "flex_flow": null,
            "grid_area": null,
            "grid_auto_columns": null,
            "grid_auto_flow": null,
            "grid_auto_rows": null,
            "grid_column": null,
            "grid_gap": null,
            "grid_row": null,
            "grid_template_areas": null,
            "grid_template_columns": null,
            "grid_template_rows": null,
            "height": null,
            "justify_content": null,
            "justify_items": null,
            "left": null,
            "margin": null,
            "max_height": null,
            "max_width": null,
            "min_height": null,
            "min_width": null,
            "object_fit": null,
            "object_position": null,
            "order": null,
            "overflow": null,
            "overflow_x": null,
            "overflow_y": null,
            "padding": null,
            "right": null,
            "top": null,
            "visibility": null,
            "width": null
          }
        },
        "d12609a1d91f4d1ebe55d9c83c1021eb": {
          "model_module": "@jupyter-widgets/base",
          "model_name": "LayoutModel",
          "model_module_version": "1.2.0",
          "state": {
            "_model_module": "@jupyter-widgets/base",
            "_model_module_version": "1.2.0",
            "_model_name": "LayoutModel",
            "_view_count": null,
            "_view_module": "@jupyter-widgets/base",
            "_view_module_version": "1.2.0",
            "_view_name": "LayoutView",
            "align_content": null,
            "align_items": null,
            "align_self": null,
            "border": null,
            "bottom": null,
            "display": null,
            "flex": null,
            "flex_flow": null,
            "grid_area": null,
            "grid_auto_columns": null,
            "grid_auto_flow": null,
            "grid_auto_rows": null,
            "grid_column": null,
            "grid_gap": null,
            "grid_row": null,
            "grid_template_areas": null,
            "grid_template_columns": null,
            "grid_template_rows": null,
            "height": null,
            "justify_content": null,
            "justify_items": null,
            "left": null,
            "margin": null,
            "max_height": null,
            "max_width": null,
            "min_height": null,
            "min_width": null,
            "object_fit": null,
            "object_position": null,
            "order": null,
            "overflow": null,
            "overflow_x": null,
            "overflow_y": null,
            "padding": null,
            "right": null,
            "top": null,
            "visibility": null,
            "width": null
          }
        },
        "d533114927354ceba626ab71a03fffb7": {
          "model_module": "@jupyter-widgets/controls",
          "model_name": "DescriptionStyleModel",
          "model_module_version": "1.5.0",
          "state": {
            "_model_module": "@jupyter-widgets/controls",
            "_model_module_version": "1.5.0",
            "_model_name": "DescriptionStyleModel",
            "_view_count": null,
            "_view_module": "@jupyter-widgets/base",
            "_view_module_version": "1.2.0",
            "_view_name": "StyleView",
            "description_width": ""
          }
        },
        "1ab97d6ce87a4da3aec4674cac9a413d": {
          "model_module": "@jupyter-widgets/base",
          "model_name": "LayoutModel",
          "model_module_version": "1.2.0",
          "state": {
            "_model_module": "@jupyter-widgets/base",
            "_model_module_version": "1.2.0",
            "_model_name": "LayoutModel",
            "_view_count": null,
            "_view_module": "@jupyter-widgets/base",
            "_view_module_version": "1.2.0",
            "_view_name": "LayoutView",
            "align_content": null,
            "align_items": null,
            "align_self": null,
            "border": null,
            "bottom": null,
            "display": null,
            "flex": null,
            "flex_flow": null,
            "grid_area": null,
            "grid_auto_columns": null,
            "grid_auto_flow": null,
            "grid_auto_rows": null,
            "grid_column": null,
            "grid_gap": null,
            "grid_row": null,
            "grid_template_areas": null,
            "grid_template_columns": null,
            "grid_template_rows": null,
            "height": null,
            "justify_content": null,
            "justify_items": null,
            "left": null,
            "margin": null,
            "max_height": null,
            "max_width": null,
            "min_height": null,
            "min_width": null,
            "object_fit": null,
            "object_position": null,
            "order": null,
            "overflow": null,
            "overflow_x": null,
            "overflow_y": null,
            "padding": null,
            "right": null,
            "top": null,
            "visibility": null,
            "width": null
          }
        },
        "93dc845e4eae42c9a7f8217293aef86a": {
          "model_module": "@jupyter-widgets/controls",
          "model_name": "ProgressStyleModel",
          "model_module_version": "1.5.0",
          "state": {
            "_model_module": "@jupyter-widgets/controls",
            "_model_module_version": "1.5.0",
            "_model_name": "ProgressStyleModel",
            "_view_count": null,
            "_view_module": "@jupyter-widgets/base",
            "_view_module_version": "1.2.0",
            "_view_name": "StyleView",
            "bar_color": null,
            "description_width": ""
          }
        },
        "3b4581a727494ff0925691da859cd3bf": {
          "model_module": "@jupyter-widgets/base",
          "model_name": "LayoutModel",
          "model_module_version": "1.2.0",
          "state": {
            "_model_module": "@jupyter-widgets/base",
            "_model_module_version": "1.2.0",
            "_model_name": "LayoutModel",
            "_view_count": null,
            "_view_module": "@jupyter-widgets/base",
            "_view_module_version": "1.2.0",
            "_view_name": "LayoutView",
            "align_content": null,
            "align_items": null,
            "align_self": null,
            "border": null,
            "bottom": null,
            "display": null,
            "flex": null,
            "flex_flow": null,
            "grid_area": null,
            "grid_auto_columns": null,
            "grid_auto_flow": null,
            "grid_auto_rows": null,
            "grid_column": null,
            "grid_gap": null,
            "grid_row": null,
            "grid_template_areas": null,
            "grid_template_columns": null,
            "grid_template_rows": null,
            "height": null,
            "justify_content": null,
            "justify_items": null,
            "left": null,
            "margin": null,
            "max_height": null,
            "max_width": null,
            "min_height": null,
            "min_width": null,
            "object_fit": null,
            "object_position": null,
            "order": null,
            "overflow": null,
            "overflow_x": null,
            "overflow_y": null,
            "padding": null,
            "right": null,
            "top": null,
            "visibility": null,
            "width": null
          }
        },
        "43b7fd7e15cf4752bcc4dfac738ed806": {
          "model_module": "@jupyter-widgets/controls",
          "model_name": "DescriptionStyleModel",
          "model_module_version": "1.5.0",
          "state": {
            "_model_module": "@jupyter-widgets/controls",
            "_model_module_version": "1.5.0",
            "_model_name": "DescriptionStyleModel",
            "_view_count": null,
            "_view_module": "@jupyter-widgets/base",
            "_view_module_version": "1.2.0",
            "_view_name": "StyleView",
            "description_width": ""
          }
        }
      }
    }
  },
  "nbformat": 4,
  "nbformat_minor": 0
}